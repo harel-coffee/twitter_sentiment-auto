{
 "cells": [
  {
   "cell_type": "code",
   "execution_count": 1,
   "metadata": {},
   "outputs": [],
   "source": [
    "import pandas as pd\n",
    "import numpy as np"
   ]
  },
  {
   "cell_type": "code",
   "execution_count": 2,
   "metadata": {},
   "outputs": [],
   "source": [
    "# read original data file\n",
    "df = pd.read_excel(\"./data/source_data/tweet_sentiment_input_file.xlsx\", converters={'dummy_id': str})"
   ]
  },
  {
   "cell_type": "code",
   "execution_count": 3,
   "metadata": {},
   "outputs": [],
   "source": [
    "# drop not needed columns\n",
    "df = df.drop([\"row\", \"dummy_id\"], axis=1)\n",
    "# change format of 'sentiment' label for further training in Flair framework\n",
    "df['sentiment'] = '__label__' + df['sentiment'].astype(str)"
   ]
  },
  {
   "cell_type": "code",
   "execution_count": 4,
   "metadata": {},
   "outputs": [],
   "source": [
    "# 5 fold CV\n",
    "# setup random state\n",
    "np.random.seed(13)\n",
    "\n",
    "from sklearn.model_selection import train_test_split\n",
    "from sklearn.model_selection import KFold\n",
    "fold_number = 5\n",
    "kf = KFold(n_splits=fold_number, random_state=13, shuffle=True)"
   ]
  },
  {
   "cell_type": "code",
   "execution_count": 5,
   "metadata": {},
   "outputs": [],
   "source": [
    "# create data splits for Deep Learning Language Models trained with Flair framework\n",
    "train_indexes = {}\n",
    "val_indexes = {}\n",
    "test_indexes = {}\n",
    "\n",
    "# train sets for Machine Learning\n",
    "train_ml = {}\n",
    "i = 0\n",
    "\n",
    "# this split (with fold_number=5) results in: 20% test, 10% val, 70% train for Flair framework\n",
    "# and the same 20% test and 80 % train for Machine Learning\n",
    "indexes = list(range(0, len(df)))\n",
    "for train_index, test_index in kf.split(indexes):\n",
    "    test_indexes[i] = test_index\n",
    "    train_ml[i] = train_index\n",
    "    train_index, val_index = train_test_split(train_index, test_size=0.125, random_state=13, shuffle=True)\n",
    "    train_indexes[i] = train_index\n",
    "    val_indexes[i] = val_index\n",
    "    i += 1\n",
    "    \n",
    "# test sets for Machine Learning are equal to those for Flair framework\n",
    "test_ml = test_indexes"
   ]
  },
  {
   "cell_type": "code",
   "execution_count": 6,
   "metadata": {},
   "outputs": [],
   "source": [
    "# create folders for FLAIR data splits and .tsv files for training\n",
    "import os\n",
    "folds_path1 = []\n",
    "for fold in range(fold_number):\n",
    "    folds_path1.append('./data/model_sentiment_{}/'.format(str(fold)))\n",
    "    try:\n",
    "        os.mkdir('./data/model_sentiment_{}'.format(str(fold)))\n",
    "    except FileExistsError:\n",
    "        None  # continue\n",
    "    df.iloc[test_indexes[fold]].to_csv(os.path.join(folds_path1[fold], \"test_.tsv\"), index=False, header=False, encoding='utf-8', sep='\\t')\n",
    "    df.iloc[train_indexes[fold]].to_csv(os.path.join(folds_path1[fold], \"train.tsv\"), index=False, header=False, encoding='utf-8', sep='\\t')\n",
    "    df.iloc[val_indexes[fold]].to_csv(os.path.join(folds_path1[fold], \"dev.tsv\"), index=False, header=False, encoding='utf-8', sep='\\t')"
   ]
  }
 ],
 "metadata": {
  "kernelspec": {
   "display_name": "Python 3",
   "language": "python",
   "name": "python3"
  },
  "language_info": {
   "codemirror_mode": {
    "name": "ipython",
    "version": 3
   },
   "file_extension": ".py",
   "mimetype": "text/x-python",
   "name": "python",
   "nbconvert_exporter": "python",
   "pygments_lexer": "ipython3",
   "version": "3.6.9"
  }
 },
 "nbformat": 4,
 "nbformat_minor": 2
}
