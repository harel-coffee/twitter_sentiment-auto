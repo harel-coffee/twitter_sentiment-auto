{
 "cells": [
  {
   "cell_type": "code",
   "execution_count": 2,
   "metadata": {},
   "outputs": [
    {
     "data": {
      "text/html": [
       "<style type='text/css'>\n",
       ".datatable table.frame { margin-bottom: 0; }\n",
       ".datatable table.frame thead { border-bottom: none; }\n",
       ".datatable table.frame tr.coltypes td {  color: #FFFFFF;  line-height: 6px;  padding: 0 0.5em;}\n",
       ".datatable .boolean { background: #DDDD99; }\n",
       ".datatable .object  { background: #565656; }\n",
       ".datatable .integer { background: #5D9E5D; }\n",
       ".datatable .float   { background: #4040CC; }\n",
       ".datatable .string  { background: #CC4040; }\n",
       ".datatable .row_index {  background: var(--jp-border-color3);  border-right: 1px solid var(--jp-border-color0);  color: var(--jp-ui-font-color3);  font-size: 9px;}\n",
       ".datatable .frame tr.coltypes .row_index {  background: var(--jp-border-color0);}\n",
       ".datatable th:nth-child(2) { padding-left: 12px; }\n",
       ".datatable .hellipsis {  color: var(--jp-cell-editor-border-color);}\n",
       ".datatable .vellipsis {  background: var(--jp-layout-color0);  color: var(--jp-cell-editor-border-color);}\n",
       ".datatable .na {  color: var(--jp-cell-editor-border-color);  font-size: 80%;}\n",
       ".datatable .footer { font-size: 9px; }\n",
       ".datatable .frame_dimensions {  background: var(--jp-border-color3);  border-top: 1px solid var(--jp-border-color0);  color: var(--jp-ui-font-color3);  display: inline-block;  opacity: 0.6;  padding: 1px 10px 1px 5px;}\n",
       "</style>\n"
      ],
      "text/plain": [
       "<IPython.core.display.HTML object>"
      ]
     },
     "metadata": {},
     "output_type": "display_data"
    }
   ],
   "source": [
    "# The code is inspired with https://github.com/susanli2016/NLP-with-Python/blob/master/LDA_news_headlines.ipynb\n",
    "# and https://www.machinelearningplus.com/nlp/topic-modeling-gensim-python/\n",
    "import pandas as pd\n",
    "import datatable as dt"
   ]
  },
  {
   "cell_type": "code",
   "execution_count": 3,
   "metadata": {},
   "outputs": [],
   "source": [
    "df_train = dt.fread(\"./usnavy_data/source_data/tweet_sentiment_input_file.xlsx\").to_pandas()\n",
    "dfs = {'train': df_train}"
   ]
  },
  {
   "cell_type": "code",
   "execution_count": 4,
   "metadata": {},
   "outputs": [],
   "source": [
    "df_train = df_train[['sentiment', 'text']]"
   ]
  },
  {
   "cell_type": "code",
   "execution_count": 5,
   "metadata": {},
   "outputs": [],
   "source": [
    "pd.options.display.max_colwidth = 500"
   ]
  },
  {
   "cell_type": "code",
   "execution_count": 8,
   "metadata": {},
   "outputs": [],
   "source": [
    "import gensim"
   ]
  },
  {
   "cell_type": "code",
   "execution_count": 12,
   "metadata": {},
   "outputs": [
    {
     "name": "stderr",
     "output_type": "stream",
     "text": [
      "/home/fiok/env/lib/python3.6/site-packages/ipykernel_launcher.py:1: SettingWithCopyWarning: \n",
      "A value is trying to be set on a copy of a slice from a DataFrame.\n",
      "Try using .loc[row_indexer,col_indexer] = value instead\n",
      "\n",
      "See the caveats in the documentation: https://pandas.pydata.org/pandas-docs/stable/user_guide/indexing.html#returning-a-view-versus-a-copy\n",
      "  \"\"\"Entry point for launching an IPython kernel.\n"
     ]
    }
   ],
   "source": [
    "df_train['pretext'] = df_train['text'].map(lambda x: x.lower())\n",
    "data_train = df_train['pretext'].to_list()\n",
    "docs = data_train.copy()"
   ]
  },
  {
   "cell_type": "code",
   "execution_count": 14,
   "metadata": {},
   "outputs": [
    {
     "name": "stdout",
     "output_type": "stream",
     "text": [
      "['usnavy', 'would', 'love', 'to', 'visit', 'space', 'eat', 'lunch', 'just', 'float', 'around', 'having', 'fun']\n"
     ]
    }
   ],
   "source": [
    "import gensim\n",
    "from gensim.utils import simple_preprocess\n",
    "\n",
    "def sent_to_words(sentences):\n",
    "    for sentence in sentences:\n",
    "        yield(gensim.utils.simple_preprocess(str(sentence), deacc=True))  # deacc=True removes punctuations\n",
    "\n",
    "data_words = list(sent_to_words(docs))"
   ]
  },
  {
   "cell_type": "code",
   "execution_count": 15,
   "metadata": {},
   "outputs": [],
   "source": [
    "# Build the bigram and trigram models\n",
    "bigram = gensim.models.Phrases(data_words, min_count=5, threshold=100) # higher threshold fewer phrases.\n",
    "trigram = gensim.models.Phrases(bigram[data_words], threshold=100)  \n",
    "\n",
    "# Faster way to get a sentence clubbed as a trigram/bigram\n",
    "bigram_mod = gensim.models.phrases.Phraser(bigram)\n",
    "trigram_mod = gensim.models.phrases.Phraser(trigram)"
   ]
  },
  {
   "cell_type": "code",
   "execution_count": 16,
   "metadata": {},
   "outputs": [
    {
     "name": "stderr",
     "output_type": "stream",
     "text": [
      "[nltk_data] Downloading package stopwords to /home/fiok/nltk_data...\n",
      "[nltk_data]   Package stopwords is already up-to-date!\n"
     ]
    }
   ],
   "source": [
    "import nltk\n",
    "nltk.download('stopwords')\n",
    "from nltk.corpus import stopwords\n",
    "\n",
    "stop_words = stopwords.words('english')\n",
    "stop_words.extend(['from', 'subject', 're', 'edu', 'use'])"
   ]
  },
  {
   "cell_type": "code",
   "execution_count": 17,
   "metadata": {},
   "outputs": [],
   "source": [
    "# Define functions for stopwords, bigrams, trigrams and lemmatization\n",
    "def remove_stopwords(texts):\n",
    "    return [[word for word in simple_preprocess(str(doc)) if word not in stop_words] for doc in texts]\n",
    "\n",
    "def make_bigrams(texts):\n",
    "    return [bigram_mod[doc] for doc in texts]\n",
    "\n",
    "def make_trigrams(texts):\n",
    "    return [trigram_mod[bigram_mod[doc]] for doc in texts]\n",
    "\n",
    "def lemmatization(texts, allowed_postags=['NOUN', 'ADJ', 'VERB', 'ADV']):\n",
    "    \"\"\"https://spacy.io/api/annotation\"\"\"\n",
    "    texts_out = []\n",
    "    for sent in texts:\n",
    "        doc = nlp(\" \".join(sent)) \n",
    "        texts_out.append([token.lemma_ for token in doc if token.pos_ in allowed_postags])\n",
    "    return texts_out"
   ]
  },
  {
   "cell_type": "code",
   "execution_count": 21,
   "metadata": {},
   "outputs": [
    {
     "name": "stdout",
     "output_type": "stream",
     "text": [
      "['would', 'love', 'visit', 'space', 'eat', 'lunch', 'float', 'fun']\n"
     ]
    }
   ],
   "source": [
    "import spacy\n",
    "\n",
    "# Remove Stop Words\n",
    "data_words_nostops = remove_stopwords(data_words)\n",
    "\n",
    "# Form Bigrams\n",
    "data_words_bigrams = make_bigrams(data_words_nostops)\n",
    "\n",
    "# Initialize spacy 'en' model, keeping only tagger component (for efficiency)\n",
    "nlp = spacy.load(\"en_core_web_sm\", disable=['parser', 'ner'])\n",
    "\n",
    "# Do lemmatization keeping only noun, adj, vb, adv\n",
    "data_lemmatized = lemmatization(data_words_bigrams, allowed_postags=['NOUN', 'ADJ', 'VERB', 'ADV'])\n",
    "\n",
    "print(data_lemmatized[:1][0][:30])"
   ]
  },
  {
   "cell_type": "code",
   "execution_count": 22,
   "metadata": {},
   "outputs": [
    {
     "name": "stdout",
     "output_type": "stream",
     "text": [
      "[(0, 1), (1, 1), (2, 1), (3, 1), (4, 1), (5, 1), (6, 1), (7, 1)]\n"
     ]
    }
   ],
   "source": [
    "import gensim.corpora as corpora\n",
    "\n",
    "# Create Dictionary\n",
    "id2word = corpora.Dictionary(data_lemmatized)\n",
    "\n",
    "# Create Corpus\n",
    "texts = data_lemmatized\n",
    "\n",
    "# Term Document Frequency\n",
    "corpus = [id2word.doc2bow(text) for text in texts]\n",
    "\n",
    "# View\n",
    "print(corpus[:1][0][:30])"
   ]
  },
  {
   "cell_type": "code",
   "execution_count": 23,
   "metadata": {},
   "outputs": [],
   "source": [
    "# Build LDA model\n",
    "lda_model = gensim.models.LdaMulticore(corpus=corpus,\n",
    "                                       id2word=id2word,\n",
    "                                       num_topics=10, \n",
    "                                       random_state=100,\n",
    "                                       chunksize=100,\n",
    "                                       passes=10,\n",
    "                                       per_word_topics=True)"
   ]
  },
  {
   "cell_type": "code",
   "execution_count": 24,
   "metadata": {},
   "outputs": [
    {
     "name": "stdout",
     "output_type": "stream",
     "text": [
      "[(0,\n",
      "  '0.050*\"go\" + 0.020*\"get\" + 0.013*\"back\" + 0.013*\"come\" + 0.011*\"remember\" + '\n",
      "  '0.010*\"turn\" + 0.010*\"need\" + 0.009*\"life\" + 0.009*\"think\" + 0.009*\"ready\"'),\n",
      " (1,\n",
      "  '0.017*\"thank\" + 0.014*\"beautiful\" + 0.012*\"world\" + 0.009*\"video\" + '\n",
      "  '0.009*\"forward\" + 0.009*\"may\" + 0.009*\"look\" + 0.008*\"ship\" + '\n",
      "  '0.008*\"system\" + 0.008*\"issue\"'),\n",
      " (2,\n",
      "  '0.039*\"good\" + 0.024*\"know\" + 0.023*\"great\" + 0.023*\"military\" + '\n",
      "  '0.012*\"would\" + 0.011*\"make\" + 0.010*\"people\" + 0.007*\"force\" + '\n",
      "  '0.007*\"give\" + 0.007*\"deploy\"'),\n",
      " (3,\n",
      "  '0.052*\"family\" + 0.022*\"prayer\" + 0.020*\"peace\" + 0.017*\"may\" + '\n",
      "  '0.015*\"rest\" + 0.014*\"year\" + 0.014*\"friend\" + 0.013*\"hero\" + 0.012*\"send\" '\n",
      "  '+ 0.012*\"shipmate\"'),\n",
      " (4,\n",
      "  '0.023*\"sailor\" + 0.018*\"ship\" + 0.017*\"watch\" + 0.016*\"great\" + '\n",
      "  '0.015*\"always\" + 0.009*\"soldier\" + 0.009*\"name\" + 0.008*\"get\" + '\n",
      "  '0.008*\"stand\" + 0.008*\"go\"'),\n",
      " (5,\n",
      "  '0.029*\"ship\" + 0.016*\"love\" + 0.015*\"call\" + 0.013*\"live\" + 0.009*\"look\" + '\n",
      "  '0.009*\"use\" + 0.008*\"usnavy\" + 0.007*\"work\" + 0.006*\"cool\" + 0.006*\"super\"'),\n",
      " (6,\n",
      "  '0.086*\"thank\" + 0.039*\"service\" + 0.023*\"safe\" + 0.020*\"man\" + 0.019*\"keep\" '\n",
      "  '+ 0.013*\"help\" + 0.013*\"guy\" + 0.011*\"country\" + 0.010*\"time\" + '\n",
      "  '0.010*\"woman\"'),\n",
      " (7,\n",
      "  '0.021*\"well\" + 0.013*\"serve\" + 0.013*\"ship\" + 0.011*\"really\" + 0.011*\"say\" '\n",
      "  '+ 0.010*\"flag\" + 0.009*\"join\" + 0.009*\"aircraft\" + 0.008*\"miss\" + '\n",
      "  '0.008*\"one\"'),\n",
      " (8,\n",
      "  '0.020*\"congratulation\" + 0.016*\"soon\" + 0.016*\"real\" + 0.014*\"crew\" + '\n",
      "  '0.014*\"see\" + 0.012*\"go\" + 0.011*\"sailor\" + 0.009*\"birthday\" + 0.009*\"sad\" '\n",
      "  '+ 0.009*\"big\"'),\n",
      " (9,\n",
      "  '0.023*\"see\" + 0.019*\"today\" + 0.013*\"take\" + 0.011*\"awesome\" + '\n",
      "  '0.010*\"naval\" + 0.009*\"old\" + 0.009*\"history\" + 0.008*\"wait\" + '\n",
      "  '0.007*\"sailor\" + 0.007*\"night\"')]\n"
     ]
    }
   ],
   "source": [
    "from pprint import pprint\n",
    "\n",
    "# Print the Keyword in the 10 topics\n",
    "pprint(lda_model.print_topics())\n",
    "doc_lda = lda_model[corpus]"
   ]
  },
  {
   "cell_type": "code",
   "execution_count": 25,
   "metadata": {},
   "outputs": [
    {
     "name": "stdout",
     "output_type": "stream",
     "text": [
      "Coherence Score:  0.4008081366158945\n"
     ]
    }
   ],
   "source": [
    "from gensim.models import CoherenceModel\n",
    "\n",
    "# Compute Coherence Score\n",
    "coherence_model_lda = CoherenceModel(model=lda_model, texts=data_lemmatized, dictionary=id2word, coherence='c_v')\n",
    "coherence_lda = coherence_model_lda.get_coherence()\n",
    "print('Coherence Score: ', coherence_lda)"
   ]
  },
  {
   "cell_type": "code",
   "execution_count": 26,
   "metadata": {},
   "outputs": [],
   "source": [
    "# supporting function\n",
    "def compute_coherence_values(corpus, dictionary, k, a, b):\n",
    "    \n",
    "    lda_model = gensim.models.LdaMulticore(corpus=corpus,\n",
    "                                           id2word=dictionary,\n",
    "                                           num_topics=k, \n",
    "                                           random_state=100,\n",
    "                                           chunksize=100,\n",
    "                                           passes=10,\n",
    "                                           alpha=a,\n",
    "                                           eta=b)\n",
    "    \n",
    "    coherence_model_lda = CoherenceModel(model=lda_model, texts=data_lemmatized, dictionary=id2word, coherence='c_v')\n",
    "    \n",
    "    return coherence_model_lda.get_coherence()"
   ]
  },
  {
   "cell_type": "code",
   "execution_count": 86,
   "metadata": {},
   "outputs": [
    {
     "name": "stderr",
     "output_type": "stream",
     "text": [
      "100%|██████████| 450/450 [53:17<00:00,  7.11s/it]\n"
     ]
    }
   ],
   "source": [
    "import numpy as np\n",
    "import tqdm\n",
    "\n",
    "grid = {}\n",
    "grid['Validation_Set'] = {}\n",
    "\n",
    "# Topics range\n",
    "min_topics = 5\n",
    "max_topics = 20\n",
    "step_size = 1\n",
    "topics_range = range(min_topics, max_topics, step_size)\n",
    "\n",
    "# Alpha parameter\n",
    "alpha = list(np.arange(0.01, 1, 0.3))\n",
    "# alpha = list()\n",
    "alpha.append('symmetric')\n",
    "alpha.append('asymmetric')\n",
    "\n",
    "# Beta parameter\n",
    "beta = list(np.arange(0.01, 1, 0.3))\n",
    "# beta = list()\n",
    "# beta.append(0.01)\n",
    "beta.append('symmetric')\n",
    "\n",
    "# Validation sets\n",
    "num_of_docs = len(corpus)\n",
    "corpus_sets = [# gensim.utils.ClippedCorpus(corpus, num_of_docs*0.25), \n",
    "               # gensim.utils.ClippedCorpus(corpus, num_of_docs*0.5), \n",
    "               # gensim.utils.ClippedCorpus(corpus, num_of_docs*0.75), \n",
    "               corpus]\n",
    "\n",
    "corpus_title = ['100% Corpus']\n",
    "\n",
    "model_results = {'Validation_Set': [],\n",
    "                 'Topics': [],\n",
    "                 'Alpha': [],\n",
    "                 'Beta': [],\n",
    "                 'Coherence': []\n",
    "                }\n",
    "\n",
    "# Can take a long time to run\n",
    "if 1 == 1:\n",
    "    pbar = tqdm.tqdm(total=(len(beta)*len(alpha)*len(topics_range)*len(corpus_title)))\n",
    "    \n",
    "    # iterate through validation corpuses\n",
    "    for i in range(len(corpus_sets)):\n",
    "        # iterate through number of topics\n",
    "        for k in topics_range:\n",
    "            # iterate through alpha values\n",
    "            for a in alpha:\n",
    "                # iterare through beta values\n",
    "                for b in beta:\n",
    "                    # get the coherence score for the given parameters\n",
    "                    cv = compute_coherence_values(corpus=corpus_sets[i], dictionary=id2word, \n",
    "                                                  k=k, a=a, b=b)\n",
    "                    # Save the model results\n",
    "                    model_results['Validation_Set'].append(corpus_title[i])\n",
    "                    model_results['Topics'].append(k)\n",
    "                    model_results['Alpha'].append(a)\n",
    "                    model_results['Beta'].append(b)\n",
    "                    model_results['Coherence'].append(cv)\n",
    "                    \n",
    "                    pbar.update(1)\n",
    "    pd.DataFrame(model_results).to_csv('lda_tuning_results480.csv', index=False)\n",
    "    pbar.close()"
   ]
  },
  {
   "cell_type": "code",
   "execution_count": 33,
   "metadata": {},
   "outputs": [],
   "source": [
    "pd.DataFrame(model_results).to_csv('./lda_tuning_results450.csv', index=False)"
   ]
  },
  {
   "cell_type": "code",
   "execution_count": 89,
   "metadata": {},
   "outputs": [],
   "source": [
    "dfres = dt.fread('./lda_tuning_results450.csv').to_pandas()"
   ]
  },
  {
   "cell_type": "code",
   "execution_count": 90,
   "metadata": {},
   "outputs": [
    {
     "data": {
      "text/html": [
       "<div>\n",
       "<style scoped>\n",
       "    .dataframe tbody tr th:only-of-type {\n",
       "        vertical-align: middle;\n",
       "    }\n",
       "\n",
       "    .dataframe tbody tr th {\n",
       "        vertical-align: top;\n",
       "    }\n",
       "\n",
       "    .dataframe thead th {\n",
       "        text-align: right;\n",
       "    }\n",
       "</style>\n",
       "<table border=\"1\" class=\"dataframe\">\n",
       "  <thead>\n",
       "    <tr style=\"text-align: right;\">\n",
       "      <th></th>\n",
       "      <th>Validation_Set</th>\n",
       "      <th>Topics</th>\n",
       "      <th>Alpha</th>\n",
       "      <th>Beta</th>\n",
       "      <th>Coherence</th>\n",
       "    </tr>\n",
       "  </thead>\n",
       "  <tbody>\n",
       "    <tr>\n",
       "      <th>0</th>\n",
       "      <td>100% Corpus</td>\n",
       "      <td>5</td>\n",
       "      <td>0.01</td>\n",
       "      <td>0.01</td>\n",
       "      <td>0.266828</td>\n",
       "    </tr>\n",
       "    <tr>\n",
       "      <th>1</th>\n",
       "      <td>100% Corpus</td>\n",
       "      <td>5</td>\n",
       "      <td>0.01</td>\n",
       "      <td>0.31</td>\n",
       "      <td>0.240547</td>\n",
       "    </tr>\n",
       "    <tr>\n",
       "      <th>2</th>\n",
       "      <td>100% Corpus</td>\n",
       "      <td>5</td>\n",
       "      <td>0.01</td>\n",
       "      <td>0.61</td>\n",
       "      <td>0.309654</td>\n",
       "    </tr>\n",
       "    <tr>\n",
       "      <th>3</th>\n",
       "      <td>100% Corpus</td>\n",
       "      <td>5</td>\n",
       "      <td>0.01</td>\n",
       "      <td>0.9099999999999999</td>\n",
       "      <td>0.277597</td>\n",
       "    </tr>\n",
       "    <tr>\n",
       "      <th>4</th>\n",
       "      <td>100% Corpus</td>\n",
       "      <td>5</td>\n",
       "      <td>0.01</td>\n",
       "      <td>symmetric</td>\n",
       "      <td>0.269938</td>\n",
       "    </tr>\n",
       "    <tr>\n",
       "      <th>...</th>\n",
       "      <td>...</td>\n",
       "      <td>...</td>\n",
       "      <td>...</td>\n",
       "      <td>...</td>\n",
       "      <td>...</td>\n",
       "    </tr>\n",
       "    <tr>\n",
       "      <th>445</th>\n",
       "      <td>100% Corpus</td>\n",
       "      <td>19</td>\n",
       "      <td>asymmetric</td>\n",
       "      <td>0.01</td>\n",
       "      <td>0.467869</td>\n",
       "    </tr>\n",
       "    <tr>\n",
       "      <th>446</th>\n",
       "      <td>100% Corpus</td>\n",
       "      <td>19</td>\n",
       "      <td>asymmetric</td>\n",
       "      <td>0.31</td>\n",
       "      <td>0.539758</td>\n",
       "    </tr>\n",
       "    <tr>\n",
       "      <th>447</th>\n",
       "      <td>100% Corpus</td>\n",
       "      <td>19</td>\n",
       "      <td>asymmetric</td>\n",
       "      <td>0.61</td>\n",
       "      <td>0.532616</td>\n",
       "    </tr>\n",
       "    <tr>\n",
       "      <th>448</th>\n",
       "      <td>100% Corpus</td>\n",
       "      <td>19</td>\n",
       "      <td>asymmetric</td>\n",
       "      <td>0.9099999999999999</td>\n",
       "      <td>0.530674</td>\n",
       "    </tr>\n",
       "    <tr>\n",
       "      <th>449</th>\n",
       "      <td>100% Corpus</td>\n",
       "      <td>19</td>\n",
       "      <td>asymmetric</td>\n",
       "      <td>symmetric</td>\n",
       "      <td>0.483825</td>\n",
       "    </tr>\n",
       "  </tbody>\n",
       "</table>\n",
       "<p>450 rows × 5 columns</p>\n",
       "</div>"
      ],
      "text/plain": [
       "    Validation_Set  Topics       Alpha                Beta  Coherence\n",
       "0      100% Corpus       5        0.01                0.01   0.266828\n",
       "1      100% Corpus       5        0.01                0.31   0.240547\n",
       "2      100% Corpus       5        0.01                0.61   0.309654\n",
       "3      100% Corpus       5        0.01  0.9099999999999999   0.277597\n",
       "4      100% Corpus       5        0.01           symmetric   0.269938\n",
       "..             ...     ...         ...                 ...        ...\n",
       "445    100% Corpus      19  asymmetric                0.01   0.467869\n",
       "446    100% Corpus      19  asymmetric                0.31   0.539758\n",
       "447    100% Corpus      19  asymmetric                0.61   0.532616\n",
       "448    100% Corpus      19  asymmetric  0.9099999999999999   0.530674\n",
       "449    100% Corpus      19  asymmetric           symmetric   0.483825\n",
       "\n",
       "[450 rows x 5 columns]"
      ]
     },
     "execution_count": 90,
     "metadata": {},
     "output_type": "execute_result"
    }
   ],
   "source": [
    "dfres"
   ]
  },
  {
   "cell_type": "code",
   "execution_count": 91,
   "metadata": {},
   "outputs": [
    {
     "data": {
      "text/plain": [
       "Validation_Set           100% Corpus\n",
       "Topics                             8\n",
       "Alpha                     asymmetric\n",
       "Beta              0.9099999999999999\n",
       "Coherence                   0.578056\n",
       "Name: 118, dtype: object"
      ]
     },
     "execution_count": 91,
     "metadata": {},
     "output_type": "execute_result"
    }
   ],
   "source": [
    "dfres.iloc[dfres['Coherence'].idxmax()]"
   ]
  },
  {
   "cell_type": "code",
   "execution_count": 163,
   "metadata": {},
   "outputs": [],
   "source": [
    "lda_model = gensim.models.LdaMulticore(corpus=corpus,\n",
    "                                           id2word=id2word,\n",
    "                                           num_topics=8, \n",
    "                                           random_state=100,\n",
    "                                           chunksize=100,\n",
    "                                           passes=10,\n",
    "                                           alpha=\"asymmetric\",\n",
    "                                           eta=0.91)"
   ]
  },
  {
   "cell_type": "code",
   "execution_count": 164,
   "metadata": {},
   "outputs": [
    {
     "name": "stdout",
     "output_type": "stream",
     "text": [
      "Coherence Score:  0.5543341628085791\n"
     ]
    }
   ],
   "source": [
    "from gensim.models import CoherenceModel\n",
    "\n",
    "# Compute Coherence Score\n",
    "coherence_model_lda = CoherenceModel(model=lda_model, texts=data_lemmatized, dictionary=id2word, coherence='c_v')\n",
    "coherence_lda = coherence_model_lda.get_coherence()\n",
    "print('Coherence Score: ', coherence_lda)"
   ]
  },
  {
   "cell_type": "code",
   "execution_count": 165,
   "metadata": {},
   "outputs": [
    {
     "data": {
      "text/html": [
       "\n",
       "<link rel=\"stylesheet\" type=\"text/css\" href=\"https://cdn.rawgit.com/bmabey/pyLDAvis/files/ldavis.v1.0.0.css\">\n",
       "\n",
       "\n",
       "<div id=\"ldavis_el195081396854336075362886382617\"></div>\n",
       "<script type=\"text/javascript\">\n",
       "\n",
       "var ldavis_el195081396854336075362886382617_data = {\"mdsDat\": {\"x\": [0.17218185595351324, -0.0029149700265171602, -0.017995244074501985, -0.02990185163620627, -0.029006841090667375, -0.030766680935628985, -0.030393004810382235, -0.03120326337960912], \"y\": [0.005322571781708205, -0.05035049673412141, 0.024168359870264756, 0.0056447122048606845, 0.0048280267065768006, 0.0036846442087588513, 0.0037302045138756417, 0.0029719774480765015], \"topics\": [1, 2, 3, 4, 5, 6, 7, 8], \"cluster\": [1, 1, 1, 1, 1, 1, 1, 1], \"Freq\": [64.68057218867551, 12.48503956759221, 7.231442768420333, 4.211000559873641, 3.715079533010753, 3.0636836776807668, 2.3346254139969345, 2.2785562907498456]}, \"tinfo\": {\"Term\": [\"thank\", \"military\", \"go\", \"would\", \"sailor\", \"pilot\", \"family\", \"give\", \"ship\", \"great\", \"good\", \"know\", \"follow\", \"bad\", \"video\", \"congratulation\", \"use\", \"picture\", \"work\", \"fast\", \"personnel\", \"see\", \"name\", \"officer\", \"nice\", \"deptofdefense\", \"may\", \"support\", \"confirm\", \"chief\", \"thank\", \"go\", \"family\", \"sailor\", \"good\", \"serve\", \"see\", \"love\", \"keep\", \"make\", \"country\", \"day\", \"guy\", \"look\", \"safe\", \"today\", \"protect\", \"prayer\", \"service\", \"remember\", \"peace\", \"proud\", \"man\", \"home\", \"rest\", \"god_bless\", \"want\", \"friend\", \"shipmate\", \"back\", \"great\", \"watch\", \"think\", \"usnavy\", \"time\", \"get\", \"ship\", \"people\", \"say\", \"need\", \"year\", \"know\", \"would\", \"may\", \"pilot\", \"search\", \"deptofdefense\", \"picture\", \"fine\", \"save\", \"island\", \"mh\", \"depart\", \"wave\", \"personnel\", \"please\", \"wind\", \"exactly\", \"rescue\", \"health\", \"nice\", \"iranian\", \"complete\", \"fix\", \"unmanned\", \"secret\", \"science\", \"period\", \"issue\", \"short\", \"criminal\", \"medium\", \"hit\", \"totally\", \"crash\", \"video\", \"wing\", \"food\", \"action\", \"shame\", \"plane\", \"order\", \"power\", \"water\", \"miss\", \"talk\", \"true\", \"name\", \"ship\", \"may\", \"attack\", \"carrier\", \"woman\", \"military\", \"new\", \"still\", \"patch\", \"core\", \"email\", \"sub\", \"steal\", \"rank\", \"card\", \"vodka\", \"company\", \"perfect\", \"sue\", \"crazy\", \"amen\", \"allegation\", \"tooling\", \"civilian\", \"recruiter\", \"machine\", \"clothe\", \"load\", \"jul\", \"identity\", \"acceptable\", \"mother\", \"taste\", \"seabee\", \"seek\", \"african\", \"college\", \"astronaut\", \"money\", \"dog\", \"shit\", \"run\", \"military\", \"bad\", \"spend\", \"wear\", \"commander\", \"lack\", \"use\", \"would\", \"give\", \"chief\", \"know\", \"try\", \"leadership\", \"congratulation\", \"trump\", \"personnel\", \"work\", \"support\", \"honor\", \"great\", \"play\", \"possible\", \"white\", \"rich\", \"race\", \"urology\", \"certificate\", \"suit\", \"recognize\", \"dinner\", \"copy\", \"fatality\", \"dolphin\", \"buddy\", \"inport\", \"confirm\", \"alpaca\", \"character\", \"athlete\", \"unique\", \"whale\", \"gladiator\", \"hiding\", \"pornography\", \"heroe\", \"beach\", \"biofuel\", \"expert\", \"pressure\", \"alcohol\", \"excellent\", \"early\", \"fast\", \"breaking\", \"several\", \"tradition\", \"fighting\", \"birth\", \"continue\", \"report\", \"green\", \"follow\", \"injury\", \"jet\", \"safely\", \"blueangel\", \"choose\", \"happen\", \"pirate\", \"helmet\", \"poor\", \"inspection\", \"assange\", \"beat\", \"hole\", \"boot\", \"press\", \"conference\", \"decade\", \"flood\", \"network\", \"follower\", \"selfie\", \"stage\", \"dive\", \"scenario\", \"readiness\", \"ssn\", \"nee\", \"scare\", \"dominance\", \"huge\", \"wwii\", \"navyathletic\", \"navyfootball\", \"active_duty\", \"pity\", \"option\", \"foot\", \"focus\", \"combine\", \"finish\", \"program\", \"smart\", \"defeat\", \"spend\", \"wonder\", \"season\", \"hand\", \"folk\", \"support\", \"enough\", \"right\", \"great\", \"water\", \"car\", \"owe\", \"traffic\", \"whant\", \"exhibit\", \"percent\", \"cell\", \"mix\", \"cinc\", \"purchase\", \"enlisted\", \"relief\", \"admission\", \"genocide\", \"literally\", \"becose\", \"foreign\", \"craft\", \"extremist\", \"non\", \"cap\", \"mutiny\", \"expression\", \"deception\", \"working\", \"gain\", \"influence\", \"debt\", \"element\", \"overseas\", \"russian\", \"problem\", \"less\", \"camp\", \"realize\", \"full\", \"trust\", \"officer\", \"feature\", \"policy\", \"outlaw\", \"state\", \"area\", \"ceremony\", \"decision\", \"bottom\", \"technology\", \"system\", \"damage\", \"cnorichardson\", \"blatant\", \"conflict\", \"vous\", \"supply\", \"product\", \"disregard\", \"model\", \"horse\", \"clearly\", \"lite\", \"panel\", \"solar\", \"physically\", \"phone\", \"expect\", \"bradthor\", \"realjameswood\", \"azws\", \"democracy\", \"store\", \"lotto\", \"navyratesmatter\", \"dramamine\", \"mash\", \"potato\", \"encule\", \"schumershutdown\", \"senschumer\", \"lyinchuck\", \"credit\", \"commemorate\", \"investigation\", \"large\", \"clean\", \"contract\", \"ability\", \"mark\", \"dump\", \"date\", \"political\", \"medium\", \"buy\", \"nuclear\", \"order\", \"close\", \"line\", \"number\", \"mission\", \"fraud\", \"obviously\", \"bean\", \"ignorant\", \"weet\", \"academic\", \"addiction\", \"conspiracy\", \"woot\", \"addict\", \"failure\", \"requirement\", \"commemoration\", \"arrest\", \"energy\", \"patriotism\", \"mostly\", \"innovative\", \"doc\", \"marforre\", \"visibility\", \"ceiling\", \"messdeck\", \"coffee\", \"staywarm\", \"tolerate\", \"breakdown\", \"operator\", \"viper\", \"fedconnect\", \"venom\", \"secnav\", \"hire\", \"self\", \"block\", \"require\", \"strategy\", \"sing\", \"lay\", \"trade\", \"deptofdefense\", \"computer\", \"enemy\", \"always\", \"admiral\"], \"Freq\": [296.0, 87.0, 213.0, 79.0, 162.0, 18.0, 140.0, 47.0, 150.0, 133.0, 124.0, 83.0, 27.0, 18.0, 17.0, 48.0, 25.0, 12.0, 63.0, 11.0, 12.0, 113.0, 40.0, 19.0, 12.0, 10.0, 79.0, 40.0, 9.0, 25.0, 295.1492433844245, 211.73105634497296, 139.15971999878607, 160.83735901349175, 123.49351590542722, 93.56975044888421, 112.05069666000104, 89.76002382596661, 79.4771051960066, 113.51935264753858, 70.29086465905034, 80.29631825166024, 59.517024746801994, 72.48483862858947, 68.50874370290775, 71.39632009210152, 53.32827792870136, 49.96216802050376, 131.69110221263284, 45.54098814131896, 44.5808041045833, 45.22911978210097, 85.6745812151782, 41.51418281548192, 45.014664653400466, 40.020719208724344, 68.88653036727186, 40.94178230389568, 38.25127484972524, 49.49154935155186, 128.7754206843292, 77.1933520353057, 56.366320712090655, 81.11821104367205, 87.5816629311371, 101.75028753524813, 138.18736081257873, 70.68882155456555, 75.90306700200485, 80.55548245477978, 68.64912498152773, 75.16463114890857, 71.77851147281486, 70.12074151611966, 14.597593798438258, 6.284675978426374, 8.389798550890482, 9.621650319694997, 6.524515781200367, 5.5535422449265175, 4.259195045996255, 4.4582716570123715, 3.492572537429576, 3.637900275426866, 8.850038351545436, 3.617695422645591, 4.342632500552677, 3.597933105155946, 5.110883058901774, 3.065277224292062, 8.087549656897158, 3.0816227666735405, 5.433892007433327, 3.2499919583393555, 2.936939666699491, 2.7485855348032726, 2.3041591113868893, 2.3029393323525236, 7.02553000154273, 2.3019528232334747, 3.4530870066186625, 2.388153509965192, 4.901099261980124, 2.3004871912593146, 4.573493444229392, 9.225212260691565, 3.1841155663289546, 3.691360319637682, 5.782055002650708, 5.607505222946457, 6.40056563386567, 5.911650862691046, 6.5004539410392, 5.291647304018056, 6.6985037772579386, 5.345497228402689, 5.945793834893734, 7.588056240251664, 11.255249796662534, 8.732522195003657, 5.821173496316858, 6.268475624788867, 5.996917695421528, 6.1600378300302365, 5.740672338918547, 5.405265433161647, 2.931630836022498, 2.113179602785775, 2.148000587272425, 3.0759577574252384, 2.3865885568358336, 2.6257299808269265, 1.421979495115809, 1.3671602601328932, 1.7284332441085666, 2.3013895400457924, 1.356527117854505, 1.3083461964730072, 1.3480807708968463, 1.1784061749114594, 1.195285301568724, 2.4917637352805175, 1.363700160824972, 1.2720749730139782, 1.2065765119257337, 1.2849090385016466, 1.1095532373011283, 1.0963723657873603, 1.40212364476605, 1.0633836338944673, 1.0658535476167166, 1.3387672406847897, 1.0150504452696967, 1.143357238064299, 1.5784800592795043, 0.9821758577462085, 3.0981867566732815, 1.72698222025349, 2.595210377773585, 3.4497478264049777, 12.604989175135145, 4.036857127139606, 1.5813721277667918, 2.5974941621704786, 2.5409325997256946, 1.7184874348207988, 3.619337430806859, 5.726174508641992, 4.132165657322848, 3.0580377641852774, 4.738991659917617, 2.8208868027144938, 1.9186080791381814, 3.2372049557638007, 2.7635690618539277, 2.083929491432239, 3.1880062657761266, 2.613418759341748, 2.5721307899338868, 2.9573146646517805, 3.6285832557705024, 1.617872587527699, 1.8198428443364447, 1.3374286843561787, 1.5678885257216768, 1.0631112295452263, 1.3192151836615134, 0.8486165874479008, 1.026425471736276, 1.4009790781942306, 1.0597101790426833, 0.7569018338136633, 0.7144032955320717, 0.7378736062444039, 0.6347750718874053, 2.257155688554598, 0.5866240476096214, 0.564382552394954, 0.5725680828774327, 0.5723636502885278, 0.7086446430109482, 0.5282536791438986, 0.5425506405818197, 0.5379865899919011, 0.5137927015247803, 0.7470362474560299, 0.5519469656758124, 0.5578999303606473, 0.7226448474649751, 0.508338510569311, 0.8720043024320424, 1.091271671757466, 2.0694202341851664, 1.237773445115272, 1.0765377038303914, 0.7936805689482606, 0.7965755981911383, 0.8915828199595547, 1.471249695532902, 0.9471748378909186, 0.9031865077278064, 1.6640556788033778, 0.7975997199276352, 0.9492605595836606, 0.8399039460455153, 0.9567972075785838, 0.852471620636696, 0.8479626121012158, 1.6354833947839167, 0.7460451047351285, 1.0326445515722449, 0.6934851879225923, 0.6148847998094179, 1.4548804512677436, 0.8362556779597974, 0.5899699611079656, 0.6625756543062392, 0.5802843133865127, 0.83407854863754, 0.6115626254635376, 0.7974417161722716, 0.6348763135725446, 0.5215916257499487, 0.5202324104175506, 0.503471077997853, 0.4973849661168343, 0.6185474692319979, 0.5045604779116651, 1.1086398729710452, 0.5033069076428209, 0.49103762175859816, 1.0900155814453514, 0.4885489143835801, 0.4750620316995368, 0.4750620316995368, 0.5832677207646937, 0.49331008509404073, 0.5733774073339675, 1.1676354405117348, 0.6428273430830931, 0.571162144406436, 0.6061470774782828, 1.1104536961777984, 0.7334185035132694, 0.8141595002451607, 0.6989604708756253, 0.9103097569148864, 0.6947338042789688, 0.8314538390841955, 0.6509634530675776, 0.8230407708305904, 0.6678618821346354, 0.6742985697281889, 0.7090329269949869, 0.6169175744265137, 0.7848726297901746, 0.6523641112074594, 0.7873854703696831, 0.5778890610403082, 0.46964865971823716, 0.46832891725198306, 0.4597741529614246, 0.4631623406874908, 0.46417739565181726, 0.4441878243724046, 0.5114963527741505, 0.8449845192022836, 0.42069933468919063, 0.43799094421743706, 0.41548895989009016, 0.42346218623262893, 1.1391712756238213, 0.41252877877337346, 0.4172913380001834, 0.6140653102460283, 0.3800718404979895, 0.446940320151044, 0.3792805983127918, 0.38690405632407193, 0.4469509609368924, 0.40913641073858115, 0.38163712859839755, 0.5094779287085277, 0.4342242010341115, 0.3639639233883637, 1.180584549096771, 0.7963892378202384, 0.7941484023289802, 0.6709663425283755, 0.5064592707731529, 0.8229965703377304, 0.6457387494080598, 1.0818631382757553, 0.5103832980723004, 0.5631989336379685, 0.4798003019421912, 0.6594724886787643, 0.5600676923880368, 0.6040428300610111, 0.47260523056832665, 0.48053499120081494, 0.5093288626996332, 0.4805463920427954, 0.46798613193643746, 0.5089512652111177, 0.4681027487692723, 0.5985768278343288, 0.3890251985818077, 0.5407042983090006, 0.42765405248938565, 0.3732340216464305, 0.39929806089975894, 0.3532145609774411, 0.33790653476199717, 0.32831943008534475, 0.32646277312682404, 0.3920455150175872, 0.36096169652668764, 0.45788346126704754, 0.4736737332224293, 0.2521266303303518, 0.2521266303303518, 0.2521266303303518, 0.369387132682071, 0.24814187671349622, 0.24814187671349622, 0.2481193789108111, 0.24801912522692293, 0.24801912522692293, 0.24801912522692293, 0.24660779082452858, 0.24282258529665418, 0.24282258529665418, 0.24282258529665418, 0.39592451267218276, 0.3313732307809534, 0.6235906559026191, 0.45056184731162846, 0.31585872432976364, 0.44668592658901723, 0.3685307682120432, 0.33918074659549163, 0.3508645813238391, 0.4891808550368567, 0.44758739526201474, 0.34948600719727746, 0.4863852994327296, 0.3898369656376631, 0.44453355836720626, 0.42813448826933276, 0.39470630100080245, 0.35259837819818707, 0.3627860637989732, 0.7415672968694124, 0.44060248997499407, 0.3884480325168521, 0.3737213236378231, 0.3681548265884822, 0.367210142316009, 0.3653871938478138, 0.43144404463670905, 0.3420591910189924, 0.36538701719867356, 0.452565947012034, 0.36520503325434095, 0.30767009029158937, 0.5643466259452318, 0.4857220367401733, 0.29279436019780697, 0.2832943814116743, 0.31806264185380795, 0.24855325427749006, 0.24855325427749006, 0.24855297163886558, 0.24855297163886558, 0.2416702618451816, 0.2416702618451816, 0.2416702618451816, 0.24165015917301594, 0.24165015917301594, 0.2403607617681698, 0.240266484121994, 0.240266484121994, 0.240266484121994, 0.6797278736454201, 0.28811720324528456, 0.2916517228987185, 0.4527911393360829, 0.474491461656392, 0.32529670678754, 0.29873814448099145, 0.30124126279898106, 0.2949559274030349, 0.35420547991623835, 0.3183774659516429, 0.3159447953108032, 0.3202092115470248, 0.2991401272646483], \"Total\": [296.0, 87.0, 213.0, 79.0, 162.0, 18.0, 140.0, 47.0, 150.0, 133.0, 124.0, 83.0, 27.0, 18.0, 17.0, 48.0, 25.0, 12.0, 63.0, 11.0, 12.0, 113.0, 40.0, 19.0, 12.0, 10.0, 79.0, 40.0, 9.0, 25.0, 296.7417742233941, 213.145883512736, 140.5623256530949, 162.52494082311205, 124.93179298751716, 94.91351776203409, 113.6857239503816, 91.27570878526885, 80.91662264174998, 115.80665518111807, 71.71243260327554, 81.97418545406158, 60.903148367148454, 74.17868650190506, 70.11777256758035, 73.13522732072222, 54.70591472046203, 51.35674865635333, 135.38546659369618, 46.87215335340198, 45.90035749825679, 46.57403172579718, 88.39617486467591, 42.83579159344316, 46.47026189890791, 41.373907504584665, 71.25705827461363, 42.3579848601441, 39.58419127074824, 51.26525767376182, 133.3957769016023, 80.03746418299723, 58.40931489580701, 84.6301507896808, 91.87060851112466, 107.3977362676181, 150.53555601574544, 74.38372145348507, 80.49155489863195, 86.4173970780767, 74.41639529418809, 83.25186693217294, 79.14341578728718, 79.92834837412438, 18.388620876137097, 7.99044433227686, 10.682655809155209, 12.73985840781069, 8.671842575109908, 7.602794724679855, 5.928313284146566, 6.3043522986101985, 5.104461055194765, 5.317079082553102, 12.93547757687798, 5.321401909306132, 6.4951824642127605, 5.431494445123949, 7.75537241714409, 4.844719722403648, 12.858341064267576, 4.929441757249158, 8.69237940160739, 5.306095603070437, 4.826549359950944, 4.5730931398118715, 3.895201287986061, 3.9911644832055884, 12.216118340933528, 4.01786598981809, 6.034643932203812, 4.241693274723928, 8.786371646862616, 4.126510221071875, 8.401756809223853, 17.82084456430185, 5.86530383695669, 6.992428949992088, 12.60097780257089, 13.72097584678415, 17.803244699705033, 15.809765058841693, 19.14226597344395, 13.548940156512918, 21.48118552797394, 15.588613528554095, 20.360641211113993, 40.786521740091786, 150.53555601574544, 79.92834837412438, 23.745011104074734, 31.864409573677136, 50.039720722879274, 87.92566365613109, 62.079982837438266, 38.188638936876906, 4.689838088439115, 3.817886647916454, 4.099012774896991, 6.410756445717907, 5.093942473532966, 5.710929532163888, 3.1501287048938984, 3.086547766477487, 3.905446278477411, 5.337378155775766, 3.1486489450771167, 3.0581426994801886, 3.159727681816445, 2.8775580979484747, 2.9379088832493077, 6.177590461781279, 3.4036647233388893, 3.1802510635860473, 3.029273924966051, 3.2466654020944317, 2.8072516402669465, 2.818111940939144, 3.6337747085284455, 2.7609458213603553, 2.792330073826169, 3.517794554426475, 2.7405550672069925, 3.094447123482271, 4.300047993603966, 2.6791449255807223, 8.754063850102206, 4.872264641236344, 7.964741871291297, 14.008374183111007, 87.92566365613109, 18.32342926355114, 4.802981199810843, 10.833173681288567, 12.016158532432797, 5.895364613640709, 25.94742811956818, 79.14341578728718, 47.59838418834464, 25.9492683591357, 83.25186693217294, 23.662655929073683, 9.192810703468032, 48.088607656396476, 31.852079125301753, 12.93547757687798, 63.15554911547809, 40.24819906002611, 41.32679411020049, 133.3957769016023, 6.347753332913339, 3.8972902562318588, 4.404286676334398, 3.40476589953739, 4.195509683999207, 2.8463500168188403, 3.9817075966557667, 2.6729657780615232, 3.2589257216575493, 4.493606527367044, 3.4592826264115533, 2.544185611496064, 2.4980380889544493, 2.606498672979727, 2.418217698473085, 9.143675826740333, 2.4308249174704444, 2.350413229082377, 2.3996082170148365, 2.466038082435713, 3.0859158140643297, 2.3173638745227847, 2.382649865630179, 2.3650446497022606, 2.297986857636597, 3.425404641288442, 2.551692399226014, 2.589164867593576, 3.385204850029426, 2.3881637214910487, 4.132651581478948, 5.326082358105353, 11.265423066678164, 6.61672861249784, 5.764249809519364, 3.936129223087625, 4.059788403659423, 4.788012154328123, 12.052573184563641, 6.320819415089214, 5.825023781663162, 27.465527672532545, 5.02460938021557, 10.580578331480377, 6.584477805763244, 18.402398997103468, 10.005792339534272, 35.964677793779046, 3.5292724203952317, 2.5628369536243785, 3.5927516346257997, 2.548862040070291, 2.4272233006605655, 5.748136159220053, 3.379037010470835, 2.4358596715480365, 2.765339890687646, 2.4565824064331094, 3.6550213795665356, 2.697633786271761, 3.5292849021948145, 2.823127814242472, 2.335951243733936, 2.3547722652220235, 2.335691956587871, 2.318314222230797, 2.9166324683208646, 2.3814668944438764, 5.254373988235081, 2.385519065013249, 2.3330299761961344, 5.18284418456452, 2.335584484291646, 2.2875169877487025, 2.2875170889124963, 2.842000849939846, 2.430598534207056, 2.8598537769820234, 5.901484821476266, 3.220002788490583, 2.849144307549534, 3.186711682333209, 9.354486856259685, 4.645517711585895, 6.372333915323062, 4.802981199810843, 9.159832771202437, 5.698835303301668, 17.53579210888156, 6.866632286613314, 40.24819906002611, 14.964488518776236, 31.835413441014662, 133.3957769016023, 13.548940156512918, 2.982768779116331, 2.5170499723888287, 3.0700539816458363, 2.53216103225727, 2.302751582967951, 2.309556507142868, 2.285063784801537, 2.3367527799282763, 2.3763086819761585, 2.274478078255109, 2.6931963036260167, 4.472834631402594, 2.2578893127405144, 2.3717190348606634, 2.256541942291576, 2.364302675631054, 6.507397802396051, 2.375629432764912, 2.4161515885851967, 3.584203722912731, 2.2223478480447536, 2.6148780637022457, 2.2255775230205987, 2.2728905707432423, 2.649280648714474, 2.425935726293325, 2.287783177573943, 3.076574953146653, 2.690803787598404, 2.2804638152148327, 9.050156735780988, 5.770282367318588, 5.9665555884105546, 5.413483282012933, 3.7286815905764934, 9.706195414183526, 6.153725117621217, 19.632907446592363, 3.8257945033040124, 5.171836185317265, 3.7498636584181764, 15.849475308350026, 7.923975473960815, 11.928213228855697, 4.398242799428078, 5.712476650000047, 14.645132357450388, 17.775368512788393, 7.225516586468413, 2.4258662079637117, 2.3353565354662007, 3.2307112203174273, 2.243060373920465, 3.1256799684445706, 2.5158485920293576, 2.257503547484331, 2.5206100802928226, 2.251249851873265, 2.2453086613051254, 2.2167782084083174, 2.2101382504240656, 2.9583453449617396, 2.730690964029441, 3.484092015505515, 3.846330180753543, 2.1251097762515037, 2.1251097762515037, 2.1251097762515037, 3.1231263182113915, 2.1017150247012557, 2.1017150247012557, 2.102442644411327, 2.102213234612707, 2.102213234612707, 2.102213234612707, 2.100522347316461, 2.096387468567522, 2.096387468567522, 2.096387468567522, 3.443131845468053, 2.931494635878916, 6.059329413562068, 4.311571710834683, 2.8980901882920063, 4.77889326752491, 3.6452582037459775, 3.472115650387729, 3.7868285702057993, 7.3050217184674855, 6.998310258668071, 4.241693274723928, 8.992419805771744, 7.435201427966803, 15.809765058841693, 13.528837645691945, 11.395185961185545, 6.0712462163777845, 21.291327772413283, 3.821171565811335, 2.346765746067058, 2.291543252092658, 2.232345616319893, 2.224441277403609, 2.2234271701773665, 2.2282148477522234, 2.724438010149387, 2.1986574835468007, 2.38533214064132, 3.0876247757583943, 2.5002600148469596, 2.1664088245106004, 4.04877920248484, 3.5530371766076203, 2.246674795972933, 2.2060387389731964, 2.674581101870425, 2.1050823675286083, 2.1050823675286083, 2.1051921080642466, 2.1051921080642466, 2.0980956128314157, 2.0980956128314157, 2.0980956128314157, 2.098152601212281, 2.098152601212281, 2.0970590987323017, 2.0966716464896016, 2.0966716464896016, 2.0966716464896016, 6.256215831798862, 2.5373216474772837, 2.6434648567580297, 4.853621601527208, 5.284188303996379, 4.225574186798615, 3.875422017924161, 4.1274137454674396, 4.105855778421155, 10.682655809155209, 7.028936708974878, 12.891308930789721, 60.96124695818233, 11.422759240309022], \"Category\": [\"Default\", \"Default\", \"Default\", \"Default\", \"Default\", \"Default\", \"Default\", \"Default\", \"Default\", \"Default\", \"Default\", \"Default\", \"Default\", \"Default\", \"Default\", \"Default\", \"Default\", \"Default\", \"Default\", \"Default\", \"Default\", \"Default\", \"Default\", \"Default\", \"Default\", \"Default\", \"Default\", \"Default\", \"Default\", \"Default\", \"Topic1\", \"Topic1\", \"Topic1\", \"Topic1\", \"Topic1\", \"Topic1\", \"Topic1\", \"Topic1\", \"Topic1\", \"Topic1\", \"Topic1\", \"Topic1\", \"Topic1\", \"Topic1\", \"Topic1\", \"Topic1\", \"Topic1\", \"Topic1\", \"Topic1\", \"Topic1\", \"Topic1\", \"Topic1\", \"Topic1\", \"Topic1\", \"Topic1\", \"Topic1\", \"Topic1\", \"Topic1\", \"Topic1\", \"Topic1\", \"Topic1\", \"Topic1\", \"Topic1\", \"Topic1\", \"Topic1\", \"Topic1\", \"Topic1\", \"Topic1\", \"Topic1\", \"Topic1\", \"Topic1\", \"Topic1\", \"Topic1\", \"Topic1\", \"Topic2\", \"Topic2\", \"Topic2\", \"Topic2\", \"Topic2\", \"Topic2\", \"Topic2\", \"Topic2\", \"Topic2\", \"Topic2\", \"Topic2\", \"Topic2\", \"Topic2\", \"Topic2\", \"Topic2\", \"Topic2\", \"Topic2\", \"Topic2\", \"Topic2\", \"Topic2\", \"Topic2\", \"Topic2\", \"Topic2\", \"Topic2\", \"Topic2\", \"Topic2\", \"Topic2\", \"Topic2\", \"Topic2\", \"Topic2\", \"Topic2\", \"Topic2\", \"Topic2\", \"Topic2\", \"Topic2\", \"Topic2\", \"Topic2\", \"Topic2\", \"Topic2\", \"Topic2\", \"Topic2\", \"Topic2\", \"Topic2\", \"Topic2\", \"Topic2\", \"Topic2\", \"Topic2\", \"Topic2\", \"Topic2\", \"Topic2\", \"Topic2\", \"Topic2\", \"Topic3\", \"Topic3\", \"Topic3\", \"Topic3\", \"Topic3\", \"Topic3\", \"Topic3\", \"Topic3\", \"Topic3\", \"Topic3\", \"Topic3\", \"Topic3\", \"Topic3\", \"Topic3\", \"Topic3\", \"Topic3\", \"Topic3\", \"Topic3\", \"Topic3\", \"Topic3\", \"Topic3\", \"Topic3\", \"Topic3\", \"Topic3\", \"Topic3\", \"Topic3\", \"Topic3\", \"Topic3\", \"Topic3\", \"Topic3\", \"Topic3\", \"Topic3\", \"Topic3\", \"Topic3\", \"Topic3\", \"Topic3\", \"Topic3\", \"Topic3\", \"Topic3\", \"Topic3\", \"Topic3\", \"Topic3\", \"Topic3\", \"Topic3\", \"Topic3\", \"Topic3\", \"Topic3\", \"Topic3\", \"Topic3\", \"Topic3\", \"Topic3\", \"Topic3\", \"Topic3\", \"Topic3\", \"Topic4\", \"Topic4\", \"Topic4\", \"Topic4\", \"Topic4\", \"Topic4\", \"Topic4\", \"Topic4\", \"Topic4\", \"Topic4\", \"Topic4\", \"Topic4\", \"Topic4\", \"Topic4\", \"Topic4\", \"Topic4\", \"Topic4\", \"Topic4\", \"Topic4\", \"Topic4\", \"Topic4\", \"Topic4\", \"Topic4\", \"Topic4\", \"Topic4\", \"Topic4\", \"Topic4\", \"Topic4\", \"Topic4\", \"Topic4\", \"Topic4\", \"Topic4\", \"Topic4\", \"Topic4\", \"Topic4\", \"Topic4\", \"Topic4\", \"Topic4\", \"Topic4\", \"Topic4\", \"Topic4\", \"Topic4\", \"Topic4\", \"Topic4\", \"Topic4\", \"Topic4\", \"Topic4\", \"Topic4\", \"Topic5\", \"Topic5\", \"Topic5\", \"Topic5\", \"Topic5\", \"Topic5\", \"Topic5\", \"Topic5\", \"Topic5\", \"Topic5\", \"Topic5\", \"Topic5\", \"Topic5\", \"Topic5\", \"Topic5\", \"Topic5\", \"Topic5\", \"Topic5\", \"Topic5\", \"Topic5\", \"Topic5\", \"Topic5\", \"Topic5\", \"Topic5\", \"Topic5\", \"Topic5\", \"Topic5\", \"Topic5\", \"Topic5\", \"Topic5\", \"Topic5\", \"Topic5\", \"Topic5\", \"Topic5\", \"Topic5\", \"Topic5\", \"Topic5\", \"Topic5\", \"Topic5\", \"Topic5\", \"Topic5\", \"Topic5\", \"Topic5\", \"Topic5\", \"Topic5\", \"Topic5\", \"Topic5\", \"Topic6\", \"Topic6\", \"Topic6\", \"Topic6\", \"Topic6\", \"Topic6\", \"Topic6\", \"Topic6\", \"Topic6\", \"Topic6\", \"Topic6\", \"Topic6\", \"Topic6\", \"Topic6\", \"Topic6\", \"Topic6\", \"Topic6\", \"Topic6\", \"Topic6\", \"Topic6\", \"Topic6\", \"Topic6\", \"Topic6\", \"Topic6\", \"Topic6\", \"Topic6\", \"Topic6\", \"Topic6\", \"Topic6\", \"Topic6\", \"Topic6\", \"Topic6\", \"Topic6\", \"Topic6\", \"Topic6\", \"Topic6\", \"Topic6\", \"Topic6\", \"Topic6\", \"Topic6\", \"Topic6\", \"Topic6\", \"Topic6\", \"Topic6\", \"Topic6\", \"Topic6\", \"Topic6\", \"Topic6\", \"Topic6\", \"Topic7\", \"Topic7\", \"Topic7\", \"Topic7\", \"Topic7\", \"Topic7\", \"Topic7\", \"Topic7\", \"Topic7\", \"Topic7\", \"Topic7\", \"Topic7\", \"Topic7\", \"Topic7\", \"Topic7\", \"Topic7\", \"Topic7\", \"Topic7\", \"Topic7\", \"Topic7\", \"Topic7\", \"Topic7\", \"Topic7\", \"Topic7\", \"Topic7\", \"Topic7\", \"Topic7\", \"Topic7\", \"Topic7\", \"Topic7\", \"Topic7\", \"Topic7\", \"Topic7\", \"Topic7\", \"Topic7\", \"Topic7\", \"Topic7\", \"Topic7\", \"Topic7\", \"Topic7\", \"Topic7\", \"Topic7\", \"Topic7\", \"Topic7\", \"Topic7\", \"Topic7\", \"Topic7\", \"Topic7\", \"Topic7\", \"Topic8\", \"Topic8\", \"Topic8\", \"Topic8\", \"Topic8\", \"Topic8\", \"Topic8\", \"Topic8\", \"Topic8\", \"Topic8\", \"Topic8\", \"Topic8\", \"Topic8\", \"Topic8\", \"Topic8\", \"Topic8\", \"Topic8\", \"Topic8\", \"Topic8\", \"Topic8\", \"Topic8\", \"Topic8\", \"Topic8\", \"Topic8\", \"Topic8\", \"Topic8\", \"Topic8\", \"Topic8\", \"Topic8\", \"Topic8\", \"Topic8\", \"Topic8\", \"Topic8\", \"Topic8\", \"Topic8\", \"Topic8\", \"Topic8\", \"Topic8\", \"Topic8\", \"Topic8\", \"Topic8\", \"Topic8\", \"Topic8\", \"Topic8\", \"Topic8\"], \"logprob\": [30.0, 29.0, 28.0, 27.0, 26.0, 25.0, 24.0, 23.0, 22.0, 21.0, 20.0, 19.0, 18.0, 17.0, 16.0, 15.0, 14.0, 13.0, 12.0, 11.0, 10.0, 9.0, 8.0, 7.0, 6.0, 5.0, 4.0, 3.0, 2.0, 1.0, -4.06689977645874, -4.399099826812744, -4.81879997253418, -4.673999786376953, -4.938199996948242, -5.215700149536133, -5.035399913787842, -5.257199764251709, -5.378900051116943, -5.02239990234375, -5.501699924468994, -5.36870002746582, -5.668099880218506, -5.4710001945495605, -5.527400016784668, -5.486100196838379, -5.777900218963623, -5.843100070953369, -4.873899936676025, -5.935800075531006, -5.957099914550781, -5.942599773406982, -5.303800106048584, -6.028299808502197, -5.947400093078613, -6.065000057220459, -5.521900177001953, -6.042200088500977, -6.110199928283691, -5.85260009765625, -4.896299839019775, -5.408100128173828, -5.722499847412109, -5.358500003814697, -5.281799793243408, -5.131899833679199, -4.825799942016602, -5.496099948883057, -5.424900054931641, -5.3653998374938965, -5.525400161743164, -5.434700012207031, -5.480800151824951, -5.504199981689453, -5.428599834442139, -6.271299839019775, -5.982399940490723, -5.845399856567383, -6.23390007019043, -6.394999980926514, -6.660399913787842, -6.614699840545654, -6.858799934387207, -6.817999839782715, -5.928999900817871, -6.823599815368652, -6.640999794006348, -6.829100131988525, -6.478099822998047, -6.989299774169922, -6.019100189208984, -6.984000205993652, -6.416800022125244, -6.930799961090088, -7.032100200653076, -7.098400115966797, -7.274700164794922, -7.275300025939941, -6.159900188446045, -7.275700092315674, -6.870200157165527, -7.238900184631348, -6.519999980926514, -7.276299953460693, -6.589200019836426, -5.887499809265137, -6.951300144195557, -6.803500175476074, -6.354700088500977, -6.385300159454346, -6.2530999183654785, -6.332499980926514, -6.237599849700928, -6.443299770355225, -6.207600116729736, -6.433199882507324, -6.3267998695373535, -6.082900047302246, -5.688600063323975, -5.942399978637695, -6.3480000495910645, -6.273900032043457, -6.31820011138916, -6.291399955749512, -6.3618998527526855, -6.422100067138672, -6.487800121307373, -6.815199851989746, -6.798799991607666, -6.439700126647949, -6.69350004196167, -6.5980000495910645, -7.211299896240234, -7.2505998611450195, -7.01609992980957, -6.729800224304199, -7.258399963378906, -7.294600009918213, -7.264699935913086, -7.399199962615967, -7.385000228881836, -6.650400161743164, -7.253200054168701, -7.322700023651123, -7.3755998611450195, -7.312699794769287, -7.459400177001953, -7.471399784088135, -7.225399971008301, -7.5019001960754395, -7.499599933624268, -7.271599769592285, -7.548399925231934, -7.4293999671936035, -7.106900215148926, -7.581299781799316, -6.432499885559082, -7.017000198364258, -6.6097002029418945, -6.325099945068359, -5.029300212860107, -6.167900085449219, -7.105100154876709, -6.608799934387207, -6.630799770355225, -7.021900177001953, -6.277100086212158, -5.818299770355225, -6.144599914550781, -6.4456000328063965, -6.007500171661377, -6.526299953460693, -6.911799907684326, -6.388700008392334, -6.546800136566162, -6.829100131988525, -6.4039998054504395, -6.602700233459473, -6.618599891662598, -6.479100227355957, -5.733799934387207, -6.541500091552734, -6.423900127410889, -6.731900215148926, -6.57289981842041, -6.961400032043457, -6.74560022354126, -7.186800003051758, -6.996500015258789, -6.685500144958496, -6.964600086212158, -7.30109977722168, -7.35890007019043, -7.326600074768066, -7.477099895477295, -6.208499908447266, -7.556000232696533, -7.594600200653076, -7.5802001953125, -7.580599784851074, -7.367000102996826, -7.660799980163574, -7.634099960327148, -7.642499923706055, -7.688600063323975, -7.314300060272217, -7.6168999671936035, -7.606200218200684, -7.347499847412109, -7.69920015335083, -7.159599781036377, -6.935299873352051, -6.295400142669678, -6.809299945831299, -6.94890022277832, -7.253699779510498, -7.250100135803223, -7.137400150299072, -6.636499881744385, -7.076900005340576, -7.1244001388549805, -6.513400077819824, -7.248799800872803, -7.074699878692627, -7.1971001625061035, -7.066800117492676, -7.182199954986572, -7.1875, -6.405399799346924, -7.190299987792969, -6.865200042724609, -7.263299942016602, -7.383600234985352, -6.52239990234375, -7.076099872589111, -7.425000190734863, -7.308899879455566, -7.4415998458862305, -7.078800201416016, -7.389100074768066, -7.123700141906738, -7.351600170135498, -7.5482001304626465, -7.55079984664917, -7.583600044250488, -7.595699787139893, -7.377699851989746, -7.581399917602539, -6.7941999435424805, -7.583899974822998, -7.60860013961792, -6.811100006103516, -7.61359977722168, -7.641600131988525, -7.641600131988525, -7.436399936676025, -7.603899955749512, -7.453499794006348, -6.742300033569336, -7.339200019836426, -7.457399845123291, -7.3979997634887695, -6.792600154876709, -7.207399845123291, -7.10290002822876, -7.255499839782715, -6.991300106048584, -7.261600017547607, -7.081900119781494, -7.326600074768066, -7.092100143432617, -7.301000118255615, -7.291399955749512, -7.241199970245361, -7.380300045013428, -6.946800231933594, -7.131700038909912, -6.943600177764893, -7.252900123596191, -7.460299968719482, -7.463099956512451, -7.481599807739258, -7.4741997718811035, -7.4720001220703125, -7.515999794006348, -7.375, -6.873000144958496, -7.570400238037109, -7.530099868774414, -7.582799911499023, -7.563799858093262, -6.57420015335083, -7.590000152587891, -7.578499794006348, -7.192200183868408, -7.671899795532227, -7.509900093078613, -7.673999786376953, -7.654099941253662, -7.509799957275391, -7.598199844360352, -7.667799949645996, -7.378900051116943, -7.538700103759766, -7.715199947357178, -6.53849983215332, -6.932199954986572, -6.934999942779541, -7.103600025177002, -7.384900093078613, -6.8993000984191895, -7.141900062561035, -6.625899791717529, -7.377099990844727, -7.27869987487793, -7.438899993896484, -7.1209001541137695, -7.284200191497803, -7.208700180053711, -7.453999996185303, -7.437399864196777, -7.379199981689453, -7.437399864196777, -7.463900089263916, -7.1082000732421875, -7.191800117492676, -6.946000099182129, -7.3769001960754395, -7.047699928283691, -7.282199859619141, -7.418300151824951, -7.350800037384033, -7.473499774932861, -7.5177998542785645, -7.546500205993652, -7.552199840545654, -7.369200229644775, -7.4517998695373535, -7.213900089263916, -7.179999828338623, -7.8105998039245605, -7.8105998039245605, -7.8105998039245605, -7.428699970245361, -7.826499938964844, -7.826499938964844, -7.826600074768066, -7.827000141143799, -7.827000141143799, -7.827000141143799, -7.832699775695801, -7.848199844360352, -7.848199844360352, -7.848199844360352, -7.359300136566162, -7.537300109863281, -6.90500020980835, -7.230000019073486, -7.58519983291626, -7.238699913024902, -7.431000232696533, -7.513999938964844, -7.480100154876709, -7.147799968719482, -7.236700057983398, -7.484099864959717, -7.153500080108643, -7.374800205230713, -7.243500232696533, -7.281099796295166, -7.362400054931641, -7.475200176239014, -7.446700096130371, -6.707499980926514, -7.228099822998047, -7.354100227355957, -7.3927001953125, -7.407700061798096, -7.410299777984619, -7.415299892425537, -7.249100208282471, -7.481200218200684, -7.415299892425537, -7.201300144195557, -7.415800094604492, -7.587200164794922, -6.980599880218506, -7.1305999755859375, -7.6367998123168945, -7.6697001457214355, -7.553999900817871, -7.800600051879883, -7.800600051879883, -7.800600051879883, -7.800600051879883, -7.82859992980957, -7.82859992980957, -7.82859992980957, -7.828700065612793, -7.828700065612793, -7.834099769592285, -7.834499835968018, -7.834499835968018, -7.834499835968018, -6.79449987411499, -7.652900218963623, -7.640699863433838, -7.200799942016602, -7.1539998054504395, -7.531499862670898, -7.616700172424316, -7.60830020904541, -7.62939977645874, -7.446300029754639, -7.552999973297119, -7.560699939727783, -7.5472002029418945, -7.615300178527832], \"loglift\": [30.0, 29.0, 28.0, 27.0, 26.0, 25.0, 24.0, 23.0, 22.0, 21.0, 20.0, 19.0, 18.0, 17.0, 16.0, 15.0, 14.0, 13.0, 12.0, 11.0, 10.0, 9.0, 8.0, 7.0, 6.0, 5.0, 4.0, 3.0, 2.0, 1.0, 0.4303, 0.429, 0.4257, 0.4253, 0.4241, 0.4215, 0.4212, 0.419, 0.4178, 0.4158, 0.4157, 0.415, 0.4127, 0.4126, 0.4125, 0.4116, 0.4102, 0.4082, 0.408, 0.4069, 0.4065, 0.4064, 0.4044, 0.4044, 0.4039, 0.4025, 0.4019, 0.4017, 0.4015, 0.4005, 0.4005, 0.3995, 0.4001, 0.3933, 0.3879, 0.3817, 0.3501, 0.3848, 0.377, 0.3655, 0.355, 0.3335, 0.338, 0.3048, 1.8498, 1.8405, 1.839, 1.7999, 1.7961, 1.7666, 1.75, 1.7342, 1.7012, 1.7011, 1.7011, 1.6947, 1.6781, 1.6688, 1.6636, 1.6229, 1.617, 1.6109, 1.6108, 1.5904, 1.5839, 1.5715, 1.5556, 1.5307, 1.5274, 1.5236, 1.5224, 1.5062, 1.4969, 1.4963, 1.4725, 1.4222, 1.4698, 1.4418, 1.3016, 1.1858, 1.0576, 1.0969, 1.0006, 1.1405, 0.9153, 1.0104, 0.8497, 0.3989, -0.5127, -0.1334, 0.6748, 0.4547, -0.0409, -0.5778, -0.3002, 0.1255, 2.1569, 2.0352, 1.9805, 1.8924, 1.8685, 1.8497, 1.8313, 1.8124, 1.8116, 1.7855, 1.7847, 1.7777, 1.7749, 1.734, 1.7274, 1.7188, 1.7121, 1.7104, 1.7062, 1.6998, 1.6985, 1.6827, 1.6744, 1.6726, 1.6636, 1.6606, 1.6335, 1.6311, 1.6246, 1.6232, 1.588, 1.5895, 1.5054, 1.2254, 0.6843, 1.114, 1.5158, 1.1987, 1.073, 1.394, 0.657, 0.0005, 0.1827, 0.4884, -0.2393, 0.4999, 1.0599, -0.0716, 0.1822, 0.801, -0.3595, -0.1077, -0.15, -1.1823, 2.6082, 2.2883, 2.2836, 2.233, 2.1832, 2.1826, 2.0628, 2.0201, 2.0122, 2.002, 1.9844, 1.9551, 1.9157, 1.9055, 1.83, 1.7685, 1.7459, 1.7409, 1.7345, 1.7069, 1.6962, 1.6889, 1.6878, 1.6868, 1.6695, 1.6446, 1.6364, 1.6326, 1.6232, 1.6203, 1.6116, 1.5822, 1.473, 1.4912, 1.4895, 1.5662, 1.5389, 1.4866, 1.0643, 1.2693, 1.3035, 0.3638, 1.327, 0.7564, 1.1083, 0.2108, 0.7047, -0.58, 2.5236, 2.0587, 2.046, 1.9911, 1.9197, 1.9188, 1.8964, 1.8748, 1.864, 1.8498, 1.8152, 1.8087, 1.8053, 1.8006, 1.7935, 1.7828, 1.7582, 1.7535, 1.742, 1.741, 1.7368, 1.7368, 1.7344, 1.7336, 1.7282, 1.721, 1.721, 1.7092, 1.698, 1.6858, 1.6725, 1.6815, 1.6857, 1.6331, 1.1617, 1.4468, 1.2352, 1.3654, 0.984, 1.1883, 0.2439, 0.9368, -0.597, 0.1834, -0.5619, -1.9444, 0.2034, 2.1505, 2.1353, 2.1248, 2.0081, 1.8957, 1.8899, 1.8821, 1.8671, 1.8525, 1.8523, 1.8244, 1.8191, 1.8053, 1.7964, 1.7934, 1.7658, 1.7429, 1.7348, 1.7294, 1.7214, 1.7196, 1.719, 1.7161, 1.7149, 1.706, 1.7056, 1.6947, 1.6874, 1.6615, 1.6505, 1.4488, 1.5052, 1.4689, 1.3976, 1.4892, 1.018, 1.2311, 0.587, 1.4712, 1.2682, 1.4294, 0.3061, 0.836, 0.5025, 1.2549, 1.01, 0.1268, -0.1251, 0.7486, 2.1957, 2.1501, 2.0714, 2.0054, 2.0028, 1.9853, 1.9575, 1.9148, 1.9052, 1.8635, 1.8475, 1.8448, 1.7363, 1.7338, 1.728, 1.663, 1.6257, 1.6257, 1.6257, 1.6226, 1.6208, 1.6208, 1.6204, 1.6201, 1.6201, 1.6201, 1.6152, 1.6017, 1.6017, 1.6017, 1.5944, 1.5773, 1.4835, 1.4988, 1.5408, 1.3872, 1.4657, 1.4313, 1.3784, 1.0537, 1.0078, 1.2611, 0.8402, 0.8091, 0.186, 0.3042, 0.3945, 0.9113, -0.3149, 2.1421, 2.109, 2.0068, 1.9943, 1.9829, 1.9808, 1.9736, 1.9387, 1.921, 1.9055, 1.8614, 1.8579, 1.8298, 1.8111, 1.7917, 1.7439, 1.7292, 1.6523, 1.6452, 1.6452, 1.6451, 1.6451, 1.6204, 1.6204, 1.6204, 1.6203, 1.6203, 1.6155, 1.6153, 1.6153, 1.6153, 1.562, 1.6061, 1.5773, 1.4096, 1.3714, 1.2175, 1.2188, 1.1641, 1.1483, 0.3751, 0.6871, 0.0729, -1.4674, 0.1392]}, \"token.table\": {\"Topic\": [1, 1, 1, 2, 3, 1, 2, 1, 2, 5, 1, 1, 1, 1, 1, 3, 1, 4, 1, 3, 1, 4, 1, 3, 1, 3, 1, 2, 6, 1, 2, 3, 8, 1, 5, 1, 3, 1, 4, 1, 2, 5, 1, 1, 2, 1, 3, 1, 4, 1, 1, 3, 5, 1, 1, 4, 1, 2, 4, 1, 1, 3, 1, 3, 4, 1, 5, 1, 2, 1, 1, 1, 2, 4, 1, 4, 1, 1, 2, 6, 1, 1, 3, 6, 1, 3, 1, 2, 1, 1, 1, 6, 1, 2, 4, 1, 4, 1, 2, 3, 1, 2, 4, 1, 1, 2, 3, 1, 1, 1, 1, 3, 1, 7, 1, 1, 3, 1, 2, 5, 1, 3, 1, 1, 1, 3, 1, 2, 1, 3, 1, 5, 1, 2, 4, 1, 3, 7, 1, 3, 1, 1, 2, 4, 1, 2, 1, 4, 1, 3, 1, 1, 1, 2, 4, 1, 3, 1, 3, 1, 2, 1, 3, 1, 1, 1, 6, 1, 2, 5, 1, 1, 1, 2, 5, 1, 3, 1, 2, 1, 2, 1, 2, 4, 1, 1, 5, 1, 1, 2, 3, 1, 4, 1, 1, 1, 3, 1, 4, 1, 2, 1, 3, 1, 1, 1, 2, 1, 6, 1, 5, 1, 2, 1, 4, 1, 1, 2, 1, 4, 1, 1, 1, 3, 1, 1, 2, 4, 1, 4, 1, 6, 1, 1, 2, 4, 1, 2, 1, 2, 5, 1, 2, 1, 5, 1, 5, 1, 2, 5, 1, 4, 1, 5, 1, 2, 1, 2, 5, 1, 2, 6, 1, 2, 3, 8, 1, 1, 2, 6, 1, 1, 1, 2, 1, 3, 1, 4, 1, 1, 1, 1, 3, 5, 1, 4, 1, 1, 5, 1, 4, 1, 2, 1, 5, 1, 4, 1, 4, 1, 1, 2, 3, 1, 5, 1, 1, 3, 1, 1, 2, 3, 5, 1, 3, 1, 1, 1, 2, 4, 1, 1, 4, 1, 5, 1, 7, 1, 2, 1, 2, 1, 2, 3, 1, 2, 4, 1, 3, 1, 2, 1, 2, 3, 1, 2, 3, 1, 2, 1, 2, 1, 3, 1, 2, 6, 1, 2, 3, 1, 1, 1, 3, 1, 3, 1, 1, 2, 1, 1, 3, 1, 3, 1, 2, 1, 1, 1, 1, 2, 1, 2, 1, 1, 2, 1, 2, 3, 1, 2, 1, 2, 1, 1, 1, 3, 1, 1, 3, 1, 3, 1, 2, 1, 1, 1, 1, 5, 1, 2, 3, 1, 2, 5, 1, 2, 1, 2, 1, 2, 6, 1, 2, 3, 1, 2, 1, 1, 2, 3, 6, 1, 1, 2, 5, 1, 2, 1, 2, 1, 1, 6, 1, 1, 3, 1, 1, 1, 2, 1, 1, 3, 1, 2, 1, 2, 3, 1, 3, 1, 1, 2, 1, 2, 1, 5, 1, 1, 2, 1, 2, 4, 1, 2, 1, 6, 1, 2, 3, 1, 3, 5, 1, 4, 1, 2, 4, 1, 1, 2, 3, 1, 1, 5, 1, 3, 4, 1, 2, 6, 1, 1, 3, 5, 1, 1, 1, 1, 2, 3, 4, 1, 3, 1, 2, 5, 1, 6, 1, 1, 4, 1, 3, 1, 2, 6, 1, 1, 2, 4, 1, 1, 1, 2, 1, 1, 4, 1, 2, 3, 5, 1, 2, 3, 1, 2, 6, 1, 2, 1, 4, 1, 1, 2, 3, 1, 2, 3, 1, 5, 1, 1, 1, 2, 1, 3, 1, 2, 1, 5, 1, 2, 3, 8, 1, 2, 1, 1, 3, 1, 2, 1, 5, 1, 1, 1, 2, 1, 2, 4, 1, 2, 1, 2, 1, 1, 2, 3, 1, 2, 1, 2, 1, 5, 1, 1, 2, 3, 5, 1, 5, 1, 5, 1, 6, 1, 1, 2, 3, 1, 2, 1, 1, 2, 1, 2, 3, 1, 3, 1, 4, 1, 3, 7, 1, 2, 3, 5, 1, 2, 1, 2, 1, 3, 1, 2, 6, 1, 2, 1, 2, 1, 2, 1, 2, 1, 1, 3, 1, 2, 1, 2, 1, 2, 4, 1, 3, 6, 1, 2, 1, 3, 1, 2, 3, 6, 1, 2, 3, 1, 4, 1, 2, 1, 4, 1, 2, 3, 1, 2, 1, 1, 2, 5, 1, 1, 1, 3, 1, 1, 3, 1, 2, 1, 2, 4, 5, 1, 2, 1, 3, 1, 1, 4, 1, 6, 1, 4, 1, 2, 1, 2, 1, 2, 1, 2, 5, 1, 1, 3, 1, 2, 1, 2, 3, 1, 1, 2], \"Freq\": [0.5486579792742088, 0.44975613027173195, 0.275195927158887, 0.275195927158887, 0.275195927158887, 0.4761535250681786, 0.4761535250681786, 0.35186477865450533, 0.35186477865450533, 0.35186477865450533, 0.4192288289592829, 0.44878975697014994, 0.875445222088868, 0.4428915068410725, 0.32315950478244754, 0.32315950478244754, 0.41873176072520296, 0.41873176072520296, 0.3475168757541124, 0.3475168757541124, 0.4113829806552321, 0.4113829806552321, 0.9514241078399583, 0.016403863928275145, 0.3164829696415883, 0.3164829696415883, 0.757195680339592, 0.12619928005659867, 0.12619928005659867, 0.2469880302156942, 0.2469880302156942, 0.2469880302156942, 0.2469880302156942, 0.4119934081581416, 0.4119934081581416, 0.37325341770499537, 0.37325341770499537, 0.4167346956512848, 0.4167346956512848, 0.7159398631354076, 0.2526846575772027, 0.04211410959620045, 0.4705639262381575, 0.9558130052095455, 0.019506387861419294, 0.7094741826443768, 0.21829974850596207, 0.5838726251178646, 0.2919363125589323, 0.43638713739607177, 0.3479388700269365, 0.17396943501346826, 0.17396943501346826, 0.4229576907842778, 0.3918967663591907, 0.3918967663591907, 0.4177098836710555, 0.20885494183552775, 0.20885494183552775, 0.4282001419540733, 0.618095155802018, 0.20603171860067268, 0.8151111168908465, 0.10868148225211285, 0.05434074112605643, 0.4105326803840389, 0.4105326803840389, 0.7002216805560101, 0.17505542013900252, 0.4705639262381575, 0.4766097563266919, 0.6045283453887925, 0.15113208634719813, 0.15113208634719813, 0.3836564393323894, 0.3836564393323894, 0.7784334084922372, 0.5541718416251373, 0.18472394720837912, 0.18472394720837912, 0.4499745622089769, 0.33525897381031927, 0.33525897381031927, 0.33525897381031927, 0.31744734697552035, 0.31744734697552035, 0.7845743992900545, 0.1882978558296131, 0.4750160311590346, 0.4376245453852187, 0.8383485278255145, 0.08383485278255146, 0.2511485275412738, 0.2511485275412738, 0.2511485275412738, 0.42545710159673034, 0.42545710159673034, 0.8092713717150618, 0.03853673198643152, 0.11561019595929455, 0.7995368810914545, 0.09994211013643181, 0.09994211013643181, 0.4208207492506367, 0.16187541181091092, 0.32375082362182184, 0.32375082362182184, 0.3450548240492652, 0.4453730648412198, 0.8869941612331507, 0.33011210764348653, 0.33011210764348653, 0.4122238879939742, 0.4122238879939742, 0.47662270197995554, 0.4651110878238722, 0.4651110878238722, 0.3509825730308728, 0.3509825730308728, 0.3509825730308728, 0.6657701775827284, 0.24966381659352313, 0.3411229165357765, 0.46159339303185476, 0.25605268353348415, 0.5121053670669683, 0.2300865974200529, 0.5752164935501323, 0.711345144652642, 0.1422690289305284, 0.4070695928543967, 0.4070695928543967, 0.5468260352557217, 0.10936520705114434, 0.2187304141022887, 0.3095293673142804, 0.3095293673142804, 0.3095293673142804, 0.9149776245215818, 0.0623848380355624, 0.3670481751739941, 0.7467285086911374, 0.08296983429901526, 0.08296983429901526, 0.41850694042301606, 0.20925347021150803, 0.2890772764170872, 0.2890772764170872, 0.2619250104100741, 0.5238500208201482, 0.9761208406811551, 0.42094107195672137, 0.35706817849172395, 0.5951136308195399, 0.119022726163908, 0.326995859339715, 0.326995859339715, 0.5808665162306974, 0.2904332581153487, 0.16570985980854824, 0.49712957942564473, 0.6919920451589233, 0.13839840903178469, 0.8213527941787879, 0.9759169860227777, 0.3250367747345866, 0.3250367747345866, 0.27359621084312075, 0.27359621084312075, 0.27359621084312075, 0.43996838777548225, 0.6820905840828302, 0.6277134960522874, 0.15692837401307186, 0.15692837401307186, 0.3201919801222443, 0.3201919801222443, 0.19590706818740616, 0.5877212045622184, 0.09360968076337195, 0.7488774461069756, 0.4450767969602064, 0.2225383984801032, 0.2225383984801032, 0.4429671887401279, 0.4281386495250274, 0.4281386495250274, 0.47504079432958807, 0.20524336702413778, 0.20524336702413778, 0.41048673404827557, 0.4003141523028373, 0.4003141523028373, 0.4286271544742173, 0.47568913730306295, 0.5281464325413885, 0.26407321627069424, 0.5632657924326934, 0.18775526414423113, 0.3716361648548592, 0.3716361648548592, 0.24396118161040134, 0.4879223632208027, 0.47607205954155063, 0.8532880608987268, 0.2814493489073996, 0.2814493489073996, 0.3713060197853525, 0.3713060197853525, 0.8687233101010199, 0.06682487000777076, 0.18411139146017844, 0.7364455658407137, 0.48395079056828255, 0.24197539528414128, 0.4342630822171137, 0.25998808032754167, 0.5199761606550833, 0.38622492237407074, 0.38622492237407074, 0.44932157593089805, 0.41388131635629727, 0.3238735509091697, 0.3238735509091697, 0.9888851749867125, 0.7101375556558623, 0.08876719445698279, 0.17753438891396559, 0.39305308365924113, 0.39305308365924113, 0.5227672312960799, 0.26138361564803997, 0.47694640296885393, 0.49263651233577455, 0.24631825616788727, 0.24631825616788727, 0.11531574649085762, 0.8072102254360033, 0.31380309851810373, 0.31380309851810373, 0.31380309851810373, 0.18846249197269227, 0.5653874759180768, 0.3706952385787103, 0.3706952385787103, 0.3105587372701508, 0.3105587372701508, 0.5825271884440512, 0.2912635942220256, 0.1456317971110128, 0.8738226436480113, 0.07281855363733428, 0.3542170478272622, 0.3542170478272622, 0.2860236427575375, 0.572047285515075, 0.5083466433875442, 0.16944888112918138, 0.16944888112918138, 0.30734251397134377, 0.30734251397134377, 0.15367125698567188, 0.2616998433012451, 0.2616998433012451, 0.2616998433012451, 0.2616998433012451, 0.9679402864742541, 0.7211888594135452, 0.10302697991622074, 0.10302697991622074, 0.41221207518466957, 0.42163510318950964, 0.9497406886289689, 0.04655591610926318, 0.8823828942135497, 0.08403646611557615, 0.4315248075600256, 0.4315248075600256, 0.994623947252223, 0.9667928994999464, 0.9845372187389468, 0.9670471059601476, 0.022489467580468547, 0.007496489193489516, 0.6866924754181724, 0.1716731188545431, 0.9851707441837996, 0.8553933524567033, 0.05702622349711355, 0.9453720173709192, 0.027805059334438803, 0.20641028940759082, 0.6192308682227725, 0.3901925944160413, 0.3901925944160413, 0.4351634982927912, 0.4351634982927912, 0.41970077703192593, 0.41970077703192593, 0.3941163710932131, 0.2276252451390612, 0.5690631128476531, 0.1138126225695306, 0.2959423045386117, 0.2959423045386117, 0.9804884755865911, 0.9195003101056088, 0.07259212974517965, 0.4441976971893635, 0.3858885061519646, 0.1929442530759823, 0.1929442530759823, 0.1929442530759823, 0.3548475081748339, 0.3548475081748339, 0.44795930911833365, 0.43710435927780544, 0.39804089206914517, 0.19902044603457258, 0.19902044603457258, 0.3738903259656872, 0.4135276987805613, 0.4135276987805613, 0.3923319443261914, 0.3923319443261914, 0.6601390561548196, 0.1650347640387049, 0.20286272751461482, 0.6085881825438444, 0.16868204362178188, 0.6747281744871275, 0.24557718878243504, 0.5730134404923484, 0.08185906292747834, 0.4725639604333828, 0.3780511683467062, 0.09451279208667655, 0.3562202923514574, 0.3562202923514574, 0.9763136104897058, 0.012358400132781087, 0.900880698100189, 0.03603522792400756, 0.060058713206679264, 0.5088743778558824, 0.16962479261862745, 0.3392495852372549, 0.4638679660538029, 0.23193398302690146, 0.48456494147123486, 0.24228247073561743, 0.6526839498322826, 0.2175613166107609, 0.5028026564987015, 0.16760088549956717, 0.16760088549956717, 0.7898072072413681, 0.08775635636015201, 0.08775635636015201, 0.4511051201274737, 0.4431559552509246, 0.3080083335211869, 0.3080083335211869, 0.9706292116422268, 0.013480961272808706, 0.47580189904297, 0.9860235674721516, 0.01095581741635724, 0.47701105592054877, 0.3144405834652567, 0.3144405834652567, 0.9843993837979992, 0.008635082314017536, 0.972892776544413, 0.022625413408009606, 0.47504079432958807, 0.5760176795311127, 0.47568913730306295, 0.875784392195216, 0.1126008504250992, 0.2357549061736637, 0.4715098123473274, 0.47662270197995554, 0.1586205771242275, 0.63448230849691, 0.7733805714102032, 0.06823946218325322, 0.14785216806371532, 0.6517331169533663, 0.32586655847668317, 0.8923821098944281, 0.0469674794681278, 0.4279442860150117, 0.39672935049273017, 0.4569306402709524, 0.34269798020321435, 0.4533011965444684, 0.3621947204698448, 0.3621947204698448, 0.3824270102232458, 0.3824270102232458, 0.7845729087642468, 0.1961432271910617, 0.43715522348280633, 0.4371552041499318, 0.4756372320824927, 0.5709528873881484, 0.1903176291293828, 0.9373112676237845, 0.04628697617895232, 0.01157174404473808, 0.2833435179398845, 0.2833435179398845, 0.2833435179398845, 0.8859538531771537, 0.09664951125568949, 0.31108212015900855, 0.6221642403180171, 0.2790019980190585, 0.2790019980190585, 0.2790019980190585, 0.40348604258598636, 0.26899069505732426, 0.13449534752866213, 0.49413248830317646, 0.32942165886878433, 0.4261183723496471, 0.713088473425771, 0.10186978191796729, 0.050934890958983646, 0.050934890958983646, 0.47685828244159284, 0.3496682271130976, 0.3496682271130976, 0.3496682271130976, 0.5060163747041869, 0.3795122810281402, 0.26667636242055665, 0.26667636242055665, 0.4385072866879908, 0.3972904832918121, 0.3972904832918121, 0.4524603833303763, 0.21322697738011312, 0.6396809321403393, 0.44510224701521406, 0.9803845210074675, 0.9545099198135572, 0.026887603375029778, 0.43298356065645316, 0.3747158139499127, 0.3747158139499127, 0.2505534422868057, 0.5011068845736114, 0.0773067707826643, 0.6957609370439788, 0.1546135415653286, 0.2870188260096534, 0.2870188260096534, 0.3662076789987205, 0.1569876160298468, 0.7849380801492339, 0.1631443717398676, 0.8157218586993379, 0.28334452002659893, 0.5666890400531979, 0.41142129641176384, 0.5616953633269829, 0.3370172179961897, 0.1575360521359522, 0.1575360521359522, 0.6301442085438088, 0.18792040463081502, 0.7516816185232601, 0.5800647763200499, 0.19335492544001665, 0.5715665428016171, 0.14289163570040428, 0.14289163570040428, 0.2783381935902046, 0.2783381935902046, 0.2783381935902046, 0.42282499830432024, 0.42282499830432024, 0.2565885356886048, 0.2565885356886048, 0.5131770713772096, 0.47568913730306295, 0.574644611837506, 0.3656829348056857, 0.0522404192579551, 0.9735818818003485, 0.3616192003621421, 0.3616192003621421, 0.2954030979812957, 0.2954030979812957, 0.2954030979812957, 0.5199052332328201, 0.17330174441094004, 0.17330174441094004, 0.39748019939203516, 0.641403434757623, 0.10690057245960383, 0.10690057245960383, 0.9688166310868035, 0.9662036618374757, 0.4396613049650323, 0.23835006359627534, 0.23835006359627534, 0.23835006359627534, 0.47670012719255067, 0.3502056869614698, 0.5253085304422047, 0.3428611629547244, 0.3428611629547244, 0.3428611629547244, 0.5363826198124841, 0.26819130990624207, 0.4705639262381575, 0.3068495833931992, 0.3068495833931992, 0.2938009708015633, 0.2938009708015633, 0.44714373877328856, 0.22357186938664428, 0.22357186938664428, 0.9813929318154812, 0.3164146716841097, 0.47462200752616457, 0.15820733584205485, 0.5677314712140614, 0.39995840195093063, 0.257885745831984, 0.6447143645799599, 0.968361230627313, 0.2937059491038345, 0.2937059491038345, 0.7852890004497833, 0.12564624007196531, 0.03141156001799133, 0.03141156001799133, 0.6424728439115168, 0.0713858715457241, 0.21415761463717228, 0.6629719434889132, 0.11049532391481887, 0.11049532391481887, 0.9840586412452987, 0.014261719438337664, 0.7593616604833284, 0.15187233209666567, 0.9906171888733573, 0.13153058003181967, 0.789183480190918, 0.13153058003181967, 0.9441984329376114, 0.03727099077385308, 0.01242366359128436, 0.41919597904971934, 0.41919597904971934, 0.4313479123799493, 0.47701105592054877, 0.2567261422623504, 0.5134522845247008, 0.2842690170014876, 0.2842690170014876, 0.12514948586282837, 0.7508969151769702, 0.7018978066768427, 0.17547445166921066, 0.6393641312163414, 0.15984103280408535, 0.15984103280408535, 0.15984103280408535, 0.21867037679471757, 0.6560111303841527, 0.9851720700558908, 0.3648895845830018, 0.3648895845830018, 0.3782913918615167, 0.3782913918615167, 0.4280911267657861, 0.4280911267657861, 0.47701105592054877, 0.9903752617796292, 0.9749938698822358, 0.022158951588232632, 0.5204493384456818, 0.17348311281522724, 0.17348311281522724, 0.5101677955100128, 0.4372866818657252, 0.9167269424744127, 0.07307243744361261, 0.9599791932109291, 0.37666004102573886, 0.25110669401715924, 0.37666004102573886, 0.24888834085909253, 0.49777668171818507, 0.5160728278752166, 0.2580364139376083, 0.6457837826165245, 0.21526126087217484, 0.3380267965344435, 0.2082040212939795, 0.2082040212939795, 0.416408042587959, 0.2082040212939795, 0.4199092594287444, 0.4199092594287444, 0.42466951678051695, 0.42466951678051695, 0.883309997815785, 0.06309357127255608, 0.47662270197995554, 0.1963116005325513, 0.1963116005325513, 0.3926232010651026, 0.837945548488746, 0.13092899195136656, 0.47580189904297, 0.473308457404044, 0.236654228702022, 0.15598783208617362, 0.15598783208617362, 0.4679634962585208, 0.317596536623586, 0.317596536623586, 0.37411627496601013, 0.37411627496601013, 0.3199303863784971, 0.3199303863784971, 0.3199303863784971, 0.8696041268281606, 0.024845832195090303, 0.07453749658527091, 0.024845832195090303, 0.9001219855717132, 0.056257624098232074, 0.5773444818241501, 0.32074693434675006, 0.35812385125006285, 0.35812385125006285, 0.8193848786825928, 0.0682820732235494, 0.0682820732235494, 0.9941303369640069, 0.0033699333456407013, 0.9587511872018214, 0.017120556914318238, 0.957868913966582, 0.03265462206704257, 0.9708043934647452, 0.013673301316404863, 0.4766097563266919, 0.3403781532169257, 0.3403781532169257, 0.24233551994940813, 0.48467103989881627, 0.4871091699107536, 0.2435545849553768, 0.25405669969736616, 0.5081133993947323, 0.25405669969736616, 0.3257271715671613, 0.3257271715671613, 0.3257271715671613, 0.6384867679365551, 0.29468620058610234, 0.8790634950343996, 0.09418537446797139, 0.487509588527035, 0.16250319617567835, 0.16250319617567835, 0.16250319617567835, 0.8029529760712617, 0.04226068295111904, 0.12678204885335712, 0.40550874178402674, 0.40550874178402674, 0.20718735589812012, 0.6215620676943603, 0.3513271361888331, 0.3513271361888331, 0.6551709064059222, 0.19269732541350656, 0.15415786033080525, 0.9571057033952085, 0.023632239590005148, 0.47694640296885393, 0.3927984431232949, 0.5050265697299506, 0.05611406330332785, 0.47694640296885393, 0.4750160311590346, 0.32398656222360905, 0.32398656222360905, 0.44581947576033376, 0.968325126952122, 0.01403369749205974, 0.9620494700325289, 0.02498829792292283, 0.5166455766383417, 0.3690325547416726, 0.07380651094833453, 0.07380651094833453, 0.18807318538505355, 0.7522927415402142, 0.6461633687356682, 0.2769271580295721, 0.44955108959639983, 0.3240529101417521, 0.3240529101417521, 0.39491959131389043, 0.39491959131389043, 0.22705152354711852, 0.45410304709423704, 0.15396026293484638, 0.6158410517393855, 0.3409883026686872, 0.5114824540030308, 0.8593173458767815, 0.11990474593629509, 0.545861493860399, 0.21834459754415958, 0.10917229877207979, 0.4548230033478582, 0.934201361975655, 0.04750176416825364, 0.3774609535932842, 0.3774609535932842, 0.9097408708453214, 0.012635289872851686, 0.07581173923711011, 0.42815835039394334, 0.9272150273770233, 0.06718949473746545], \"Term\": [\"ability\", \"academic\", \"acceptable\", \"acceptable\", \"acceptable\", \"action\", \"action\", \"active_duty\", \"active_duty\", \"active_duty\", \"addict\", \"addiction\", \"admiral\", \"admission\", \"african\", \"african\", \"alcohol\", \"alcohol\", \"allegation\", \"allegation\", \"alpaca\", \"alpaca\", \"always\", \"always\", \"amen\", \"amen\", \"area\", \"area\", \"area\", \"arrest\", \"arrest\", \"arrest\", \"arrest\", \"assange\", \"assange\", \"astronaut\", \"astronaut\", \"athlete\", \"athlete\", \"attack\", \"attack\", \"attack\", \"azws\", \"back\", \"back\", \"bad\", \"bad\", \"beach\", \"beach\", \"bean\", \"beat\", \"beat\", \"beat\", \"becose\", \"biofuel\", \"biofuel\", \"birth\", \"birth\", \"birth\", \"blatant\", \"block\", \"block\", \"blueangel\", \"blueangel\", \"blueangel\", \"boot\", \"boot\", \"bottom\", \"bottom\", \"bradthor\", \"breakdown\", \"breaking\", \"breaking\", \"breaking\", \"buddy\", \"buddy\", \"buy\", \"camp\", \"camp\", \"camp\", \"cap\", \"car\", \"car\", \"car\", \"card\", \"card\", \"carrier\", \"carrier\", \"ceiling\", \"cell\", \"ceremony\", \"ceremony\", \"certificate\", \"certificate\", \"certificate\", \"character\", \"character\", \"chief\", \"chief\", \"chief\", \"choose\", \"choose\", \"choose\", \"cinc\", \"civilian\", \"civilian\", \"civilian\", \"clean\", \"clearly\", \"close\", \"clothe\", \"clothe\", \"cnorichardson\", \"cnorichardson\", \"coffee\", \"college\", \"college\", \"combine\", \"combine\", \"combine\", \"commander\", \"commander\", \"commemorate\", \"commemoration\", \"company\", \"company\", \"complete\", \"complete\", \"computer\", \"computer\", \"conference\", \"conference\", \"confirm\", \"confirm\", \"confirm\", \"conflict\", \"conflict\", \"conflict\", \"congratulation\", \"congratulation\", \"conspiracy\", \"continue\", \"continue\", \"continue\", \"contract\", \"contract\", \"copy\", \"copy\", \"core\", \"core\", \"country\", \"craft\", \"crash\", \"crash\", \"crash\", \"crazy\", \"crazy\", \"credit\", \"credit\", \"criminal\", \"criminal\", \"damage\", \"damage\", \"date\", \"day\", \"debt\", \"debt\", \"decade\", \"decade\", \"decade\", \"deception\", \"decision\", \"defeat\", \"defeat\", \"defeat\", \"democracy\", \"democracy\", \"depart\", \"depart\", \"deptofdefense\", \"deptofdefense\", \"dinner\", \"dinner\", \"dinner\", \"disregard\", \"dive\", \"dive\", \"doc\", \"dog\", \"dog\", \"dog\", \"dolphin\", \"dolphin\", \"dominance\", \"dramamine\", \"dump\", \"dump\", \"early\", \"early\", \"element\", \"element\", \"email\", \"email\", \"encule\", \"enemy\", \"energy\", \"energy\", \"enlisted\", \"enlisted\", \"enough\", \"enough\", \"exactly\", \"exactly\", \"excellent\", \"excellent\", \"exhibit\", \"expect\", \"expect\", \"expert\", \"expert\", \"expression\", \"extremist\", \"failure\", \"failure\", \"family\", \"fast\", \"fast\", \"fast\", \"fatality\", \"fatality\", \"feature\", \"feature\", \"fedconnect\", \"fighting\", \"fighting\", \"fighting\", \"fine\", \"fine\", \"finish\", \"finish\", \"finish\", \"fix\", \"fix\", \"flood\", \"flood\", \"focus\", \"focus\", \"folk\", \"folk\", \"folk\", \"follow\", \"follow\", \"follower\", \"follower\", \"food\", \"food\", \"foot\", \"foot\", \"foot\", \"foreign\", \"foreign\", \"foreign\", \"fraud\", \"fraud\", \"fraud\", \"fraud\", \"friend\", \"full\", \"full\", \"full\", \"gain\", \"genocide\", \"get\", \"get\", \"give\", \"give\", \"gladiator\", \"gladiator\", \"go\", \"god_bless\", \"good\", \"great\", \"great\", \"great\", \"green\", \"green\", \"guy\", \"hand\", \"hand\", \"happen\", \"happen\", \"health\", \"health\", \"helmet\", \"helmet\", \"heroe\", \"heroe\", \"hiding\", \"hiding\", \"hire\", \"hit\", \"hit\", \"hit\", \"hole\", \"hole\", \"home\", \"honor\", \"honor\", \"horse\", \"huge\", \"huge\", \"huge\", \"huge\", \"identity\", \"identity\", \"ignorant\", \"influence\", \"injury\", \"injury\", \"injury\", \"innovative\", \"inport\", \"inport\", \"inspection\", \"inspection\", \"investigation\", \"investigation\", \"iranian\", \"iranian\", \"island\", \"island\", \"issue\", \"issue\", \"issue\", \"jet\", \"jet\", \"jet\", \"jul\", \"jul\", \"keep\", \"keep\", \"know\", \"know\", \"know\", \"lack\", \"lack\", \"lack\", \"large\", \"large\", \"lay\", \"lay\", \"leadership\", \"leadership\", \"less\", \"less\", \"less\", \"line\", \"line\", \"line\", \"lite\", \"literally\", \"load\", \"load\", \"look\", \"look\", \"lotto\", \"love\", \"love\", \"lyinchuck\", \"machine\", \"machine\", \"make\", \"make\", \"man\", \"man\", \"marforre\", \"mark\", \"mash\", \"may\", \"may\", \"medium\", \"medium\", \"messdeck\", \"mh\", \"mh\", \"military\", \"military\", \"military\", \"miss\", \"miss\", \"mission\", \"mission\", \"mix\", \"model\", \"money\", \"money\", \"mostly\", \"mother\", \"mother\", \"mutiny\", \"mutiny\", \"name\", \"name\", \"navyathletic\", \"navyfootball\", \"navyratesmatter\", \"nee\", \"nee\", \"need\", \"need\", \"need\", \"network\", \"network\", \"network\", \"new\", \"new\", \"nice\", \"nice\", \"non\", \"non\", \"non\", \"nuclear\", \"nuclear\", \"nuclear\", \"number\", \"number\", \"obviously\", \"officer\", \"officer\", \"officer\", \"officer\", \"operator\", \"option\", \"option\", \"option\", \"order\", \"order\", \"outlaw\", \"outlaw\", \"overseas\", \"owe\", \"owe\", \"panel\", \"patch\", \"patch\", \"patriotism\", \"peace\", \"people\", \"people\", \"percent\", \"perfect\", \"perfect\", \"period\", \"period\", \"personnel\", \"personnel\", \"personnel\", \"phone\", \"phone\", \"physically\", \"picture\", \"picture\", \"pilot\", \"pilot\", \"pirate\", \"pirate\", \"pity\", \"plane\", \"plane\", \"play\", \"play\", \"play\", \"please\", \"please\", \"policy\", \"policy\", \"political\", \"political\", \"political\", \"poor\", \"poor\", \"poor\", \"pornography\", \"pornography\", \"possible\", \"possible\", \"possible\", \"potato\", \"power\", \"power\", \"power\", \"prayer\", \"press\", \"press\", \"pressure\", \"pressure\", \"pressure\", \"problem\", \"problem\", \"problem\", \"product\", \"program\", \"program\", \"program\", \"protect\", \"proud\", \"purchase\", \"race\", \"race\", \"race\", \"race\", \"rank\", \"rank\", \"readiness\", \"readiness\", \"readiness\", \"realize\", \"realize\", \"realjameswood\", \"recognize\", \"recognize\", \"recruiter\", \"recruiter\", \"relief\", \"relief\", \"relief\", \"remember\", \"report\", \"report\", \"report\", \"require\", \"requirement\", \"rescue\", \"rescue\", \"rest\", \"rich\", \"rich\", \"right\", \"right\", \"right\", \"right\", \"run\", \"run\", \"run\", \"russian\", \"russian\", \"russian\", \"safe\", \"safe\", \"safely\", \"safely\", \"sailor\", \"save\", \"save\", \"save\", \"say\", \"say\", \"say\", \"scare\", \"scare\", \"scenario\", \"schumershutdown\", \"science\", \"science\", \"seabee\", \"seabee\", \"search\", \"search\", \"season\", \"season\", \"secnav\", \"secnav\", \"secnav\", \"secnav\", \"secret\", \"secret\", \"see\", \"seek\", \"seek\", \"self\", \"self\", \"selfie\", \"selfie\", \"senschumer\", \"serve\", \"service\", \"service\", \"several\", \"several\", \"several\", \"shame\", \"shame\", \"ship\", \"ship\", \"shipmate\", \"shit\", \"shit\", \"shit\", \"short\", \"short\", \"sing\", \"sing\", \"smart\", \"smart\", \"solar\", \"spend\", \"spend\", \"spend\", \"spend\", \"ssn\", \"ssn\", \"stage\", \"stage\", \"state\", \"state\", \"staywarm\", \"steal\", \"steal\", \"steal\", \"still\", \"still\", \"store\", \"strategy\", \"strategy\", \"sub\", \"sub\", \"sub\", \"sue\", \"sue\", \"suit\", \"suit\", \"supply\", \"supply\", \"supply\", \"support\", \"support\", \"support\", \"support\", \"system\", \"system\", \"talk\", \"talk\", \"taste\", \"taste\", \"technology\", \"technology\", \"technology\", \"thank\", \"thank\", \"think\", \"think\", \"time\", \"time\", \"today\", \"today\", \"tolerate\", \"tooling\", \"tooling\", \"totally\", \"totally\", \"trade\", \"trade\", \"tradition\", \"tradition\", \"tradition\", \"traffic\", \"traffic\", \"traffic\", \"true\", \"true\", \"trump\", \"trump\", \"trust\", \"trust\", \"trust\", \"trust\", \"try\", \"try\", \"try\", \"unique\", \"unique\", \"unmanned\", \"unmanned\", \"urology\", \"urology\", \"use\", \"use\", \"use\", \"usnavy\", \"usnavy\", \"venom\", \"video\", \"video\", \"video\", \"viper\", \"visibility\", \"vodka\", \"vodka\", \"vous\", \"want\", \"want\", \"watch\", \"watch\", \"water\", \"water\", \"water\", \"water\", \"wave\", \"wave\", \"wear\", \"wear\", \"weet\", \"whale\", \"whale\", \"whant\", \"whant\", \"white\", \"white\", \"wind\", \"wind\", \"wing\", \"wing\", \"woman\", \"woman\", \"wonder\", \"wonder\", \"wonder\", \"woot\", \"work\", \"work\", \"working\", \"working\", \"would\", \"would\", \"would\", \"wwii\", \"year\", \"year\"]}, \"R\": 30, \"lambda.step\": 0.01, \"plot.opts\": {\"xlab\": \"PC1\", \"ylab\": \"PC2\"}, \"topic.order\": [1, 2, 3, 4, 5, 6, 7, 8]};\n",
       "\n",
       "function LDAvis_load_lib(url, callback){\n",
       "  var s = document.createElement('script');\n",
       "  s.src = url;\n",
       "  s.async = true;\n",
       "  s.onreadystatechange = s.onload = callback;\n",
       "  s.onerror = function(){console.warn(\"failed to load library \" + url);};\n",
       "  document.getElementsByTagName(\"head\")[0].appendChild(s);\n",
       "}\n",
       "\n",
       "if(typeof(LDAvis) !== \"undefined\"){\n",
       "   // already loaded: just create the visualization\n",
       "   !function(LDAvis){\n",
       "       new LDAvis(\"#\" + \"ldavis_el195081396854336075362886382617\", ldavis_el195081396854336075362886382617_data);\n",
       "   }(LDAvis);\n",
       "}else if(typeof define === \"function\" && define.amd){\n",
       "   // require.js is available: use it to load d3/LDAvis\n",
       "   require.config({paths: {d3: \"https://cdnjs.cloudflare.com/ajax/libs/d3/3.5.5/d3.min\"}});\n",
       "   require([\"d3\"], function(d3){\n",
       "      window.d3 = d3;\n",
       "      LDAvis_load_lib(\"https://cdn.rawgit.com/bmabey/pyLDAvis/files/ldavis.v1.0.0.js\", function(){\n",
       "        new LDAvis(\"#\" + \"ldavis_el195081396854336075362886382617\", ldavis_el195081396854336075362886382617_data);\n",
       "      });\n",
       "    });\n",
       "}else{\n",
       "    // require.js not available: dynamically load d3 & LDAvis\n",
       "    LDAvis_load_lib(\"https://cdnjs.cloudflare.com/ajax/libs/d3/3.5.5/d3.min.js\", function(){\n",
       "         LDAvis_load_lib(\"https://cdn.rawgit.com/bmabey/pyLDAvis/files/ldavis.v1.0.0.js\", function(){\n",
       "                 new LDAvis(\"#\" + \"ldavis_el195081396854336075362886382617\", ldavis_el195081396854336075362886382617_data);\n",
       "            })\n",
       "         });\n",
       "}\n",
       "</script>"
      ],
      "text/plain": [
       "PreparedData(topic_coordinates=              x         y  topics  cluster       Freq\n",
       "topic                                                \n",
       "0      0.172182  0.005323       1        1  64.680572\n",
       "1     -0.002915 -0.050350       2        1  12.485040\n",
       "2     -0.017995  0.024168       3        1   7.231443\n",
       "3     -0.029902  0.005645       4        1   4.211001\n",
       "4     -0.029007  0.004828       5        1   3.715080\n",
       "5     -0.030767  0.003685       6        1   3.063684\n",
       "6     -0.030393  0.003730       7        1   2.334625\n",
       "7     -0.031203  0.002972       8        1   2.278556, topic_info=               Term        Freq       Total Category  logprob  loglift\n",
       "15            thank  296.000000  296.000000  Default  30.0000  30.0000\n",
       "54         military   87.000000   87.000000  Default  29.0000  29.0000\n",
       "50               go  213.000000  213.000000  Default  28.0000  28.0000\n",
       "7             would   79.000000   79.000000  Default  27.0000  27.0000\n",
       "53           sailor  162.000000  162.000000  Default  26.0000  26.0000\n",
       "...             ...         ...         ...      ...      ...      ...\n",
       "2235  deptofdefense    0.354205   10.682656   Topic8  -7.4463   0.3751\n",
       "1015       computer    0.318377    7.028937   Topic8  -7.5530   0.6871\n",
       "1146          enemy    0.315945   12.891309   Topic8  -7.5607   0.0729\n",
       "21           always    0.320209   60.961247   Topic8  -7.5472  -1.4674\n",
       "804         admiral    0.299140   11.422759   Topic8  -7.6153   0.1392\n",
       "\n",
       "[418 rows x 6 columns], token_table=      Topic      Freq        Term\n",
       "term                             \n",
       "2119      1  0.548658     ability\n",
       "3623      1  0.449756    academic\n",
       "864       1  0.275196  acceptable\n",
       "864       2  0.275196  acceptable\n",
       "864       3  0.275196  acceptable\n",
       "...     ...       ...         ...\n",
       "7         2  0.012635       would\n",
       "7         3  0.075812       would\n",
       "1138      1  0.428158        wwii\n",
       "181       1  0.927215        year\n",
       "181       2  0.067189        year\n",
       "\n",
       "[738 rows x 3 columns], R=30, lambda_step=0.01, plot_opts={'xlab': 'PC1', 'ylab': 'PC2'}, topic_order=[1, 2, 3, 4, 5, 6, 7, 8])"
      ]
     },
     "execution_count": 165,
     "metadata": {},
     "output_type": "execute_result"
    }
   ],
   "source": [
    "# Visualize the topics\n",
    "pyLDAvis.enable_notebook()\n",
    "\n",
    "LDAvis_prepared = pyLDAvis.gensim.prepare(lda_model, corpus, id2word)\n",
    "\n",
    "LDAvis_prepared"
   ]
  }
 ],
 "metadata": {
  "kernelspec": {
   "display_name": "Python 3",
   "language": "python",
   "name": "python3"
  },
  "language_info": {
   "codemirror_mode": {
    "name": "ipython",
    "version": 3
   },
   "file_extension": ".py",
   "mimetype": "text/x-python",
   "name": "python",
   "nbconvert_exporter": "python",
   "pygments_lexer": "ipython3",
   "version": "3.6.9"
  }
 },
 "nbformat": 4,
 "nbformat_minor": 2
}
